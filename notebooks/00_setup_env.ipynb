{
 "cells": [
  {
   "cell_type": "markdown",
   "metadata": {},
   "source": [
    "# 00 - Setup Environment\n",
    "\n",
    "## Overview\n",
    "Verify package imports, create data directories, and run smoke tests.\n",
    "\n",
    "## Inputs\n",
    "- None\n",
    "\n",
    "## Outputs\n",
    "- Verified environment\n",
    "- Created directory structure\n",
    "- Test parquet file"
   ]
  },
  {
   "cell_type": "code",
   "execution_count": null,
   "metadata": {},
   "outputs": [],
   "source": [
    "import sys\n",
    "import os\n",
    "from pathlib import Path\n",
    "\n",
    "# Add src to path\n",
    "sys.path.insert(0, str(Path.cwd().parent / 'src'))\n",
    "\n",
    "print(\"Python version:\", sys.version)\n",
    "print(\"Working directory:\", Path.cwd())"
   ]
  },
  {
   "cell_type": "markdown",
   "metadata": {},
   "source": [
    "## Load Packages"
   ]
  },
  {
   "cell_type": "code",
   "execution_count": null,
   "metadata": {},
   "outputs": [],
   "source": [
    "# Core packages\n",
    "import pandas as pd\n",
    "import numpy as np\n",
    "print(f\"✓ pandas {pd.__version__}\")\n",
    "print(f\"✓ numpy {np.__version__}\")\n",
    "\n",
    "# FastF1\n",
    "import fastf1\n",
    "print(f\"✓ fastf1 {fastf1.__version__}\")\n",
    "\n",
    "# ML packages\n",
    "import sklearn\n",
    "import lightgbm as lgb\n",
    "print(f\"✓ scikit-learn {sklearn.__version__}\")\n",
    "print(f\"✓ lightgbm {lgb.__version__}\")\n",
    "\n",
    "# Viz\n",
    "import matplotlib\n",
    "import matplotlib.pyplot as plt\n",
    "print(f\"✓ matplotlib {matplotlib.__version__}\")\n",
    "\n",
    "# Streamlit\n",
    "import streamlit\n",
    "print(f\"✓ streamlit {streamlit.__version__}\")"
   ]
  },
  {
   "cell_type": "markdown",
   "metadata": {},
   "source": [
    "## Import Custom Modules"
   ]
  },
  {
   "cell_type": "code",
   "execution_count": null,
   "metadata": {},
   "outputs": [],
   "source": [
    "from f1ts import config, io_flat, validation, utils\n",
    "\n",
    "print(\"✓ Custom modules imported successfully\")\n",
    "print(f\"✓ Project root: {config.PROJECT_ROOT}\")"
   ]
  },
  {
   "cell_type": "markdown",
   "metadata": {},
   "source": [
    "## Transform: Create Directory Structure"
   ]
  },
  {
   "cell_type": "code",
   "execution_count": null,
   "metadata": {},
   "outputs": [],
   "source": [
    "config.ensure_dirs()\n",
    "\n",
    "paths = config.paths()\n",
    "print(\"\\nDirectory structure:\")\n",
    "for name, path in paths.items():\n",
    "    exists = \"✓\" if path.exists() else \"✗\"\n",
    "    print(f\"  {exists} {name}: {path}\")"
   ]
  },
  {
   "cell_type": "markdown",
   "metadata": {},
   "source": [
    "## Validate: Smoke Test - Read/Write Parquet"
   ]
  },
  {
   "cell_type": "code",
   "execution_count": null,
   "metadata": {},
   "outputs": [],
   "source": [
    "# Create test data\n",
    "test_df = pd.DataFrame({\n",
    "    'session_key': ['2023_1_R', '2023_1_R'],\n",
    "    'driver': ['VER', 'HAM'],\n",
    "    'lap_time_ms': [90123, 90456],\n",
    "})\n",
    "\n",
    "# Write\n",
    "test_file = config.DATA_DIR / 'raw' / 'test_smoke.parquet'\n",
    "io_flat.write_parquet(test_df, test_file)\n",
    "\n",
    "# Read\n",
    "read_df = io_flat.read_parquet(test_file)\n",
    "\n",
    "# Validate\n",
    "assert len(read_df) == 2, \"Row count mismatch\"\n",
    "assert list(read_df.columns) == ['session_key', 'driver', 'lap_time_ms'], \"Columns mismatch\"\n",
    "assert read_df['lap_time_ms'].sum() == 180579, \"Data mismatch\"\n",
    "\n",
    "print(\"\\n✓ Parquet read/write smoke test passed!\")\n",
    "\n",
    "# Clean up\n",
    "test_file.unlink()\n",
    "print(\"✓ Test file cleaned up\")"
   ]
  },
  {
   "cell_type": "markdown",
   "metadata": {},
   "source": [
    "## Save: No outputs for this notebook"
   ]
  },
  {
   "cell_type": "markdown",
   "metadata": {},
   "source": [
    "## Repro Notes\n",
    "\n",
    "- Verified all required packages are installed\n",
    "- Created directory structure\n",
    "- Smoke test passed for parquet I/O\n",
    "- Environment is ready for data ingestion"
   ]
  },
  {
   "cell_type": "code",
   "execution_count": null,
   "metadata": {},
   "outputs": [],
   "source": [
    "print(\"\\n\" + \"=\"*60)\n",
    "print(\"SETUP COMPLETE - Ready to proceed with data ingestion\")\n",
    "print(\"=\"*60)"
   ]
  }
 ],
 "metadata": {
  "kernelspec": {
   "display_name": "Python 3",
   "language": "python",
   "name": "python3"
  },
  "language_info": {
   "name": "python",
   "version": "3.11.0"
  }
 },
 "nbformat": 4,
 "nbformat_minor": 4
}
