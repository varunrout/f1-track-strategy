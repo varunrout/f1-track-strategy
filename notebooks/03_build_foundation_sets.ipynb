{
 "cells": [
  {"cell_type": "markdown", "metadata": {}, "source": ["# 03 - Build Foundation Sets\n\n## Overview\nJoin laps with weather and events to create processed base tables."]},
  {"cell_type": "code", "execution_count": null, "metadata": {}, "outputs": [], "source": ["import sys\nfrom pathlib import Path\nsys.path.insert(0, str(Path.cwd().parent / 'src'))\n\nimport pandas as pd\nfrom f1ts import config, io_flat, foundation, validation"]},
  {"cell_type": "markdown", "metadata": {}, "source": ["## Load"]},
  {"cell_type": "code", "execution_count": null, "metadata": {}, "outputs": [], "source": ["interim_dir = config.paths()['data_interim']\nraw_dir = config.paths()['data_raw']\n\nlaps_interim = io_flat.read_parquet(interim_dir / 'laps_interim.parquet')\nsessions = io_flat.read_csv(raw_dir / 'sessions.csv')\n\n# Load all weather files\nweather_files = list(raw_dir.glob('*_weather.csv'))\nweather_data = []\nfor wf in weather_files:\n    weather_data.append(pd.read_csv(wf))\nweather_raw = pd.concat(weather_data, ignore_index=True) if weather_data else pd.DataFrame()"]},
  {"cell_type": "markdown", "metadata": {}, "source": ["## Transform"]},
  {"cell_type": "code", "execution_count": null, "metadata": {}, "outputs": [], "source": ["laps_processed, stints, events = foundation.foundation_pipeline(\n    laps_interim, weather_raw, sessions\n)"]},
  {"cell_type": "markdown", "metadata": {}, "source": ["## Validate"]},
  {"cell_type": "code", "execution_count": null, "metadata": {}, "outputs": [], "source": ["validation.validate_uniqueness(laps_processed, ['session_key', 'driver', 'lap'], 'laps_processed')\nprint('✓ Validations passed')"]},
  {"cell_type": "markdown", "metadata": {}, "source": ["## Save"]},
  {"cell_type": "code", "execution_count": null, "metadata": {}, "outputs": [], "source": ["processed_dir = config.paths()['data_processed']\nio_flat.write_parquet(laps_processed, processed_dir / 'laps_processed.parquet')\nio_flat.write_parquet(stints, processed_dir / 'stints.parquet')\nio_flat.write_parquet(events, processed_dir / 'events.parquet')\nprint('✓ Saved processed data')"]},
  {"cell_type": "markdown", "metadata": {}, "source": ["## Repro Notes\n\n- Joined laps with weather and events\n- Built stint aggregations\n- Extracted racing events from track status"]}
 ],
 "metadata": {"kernelspec": {"display_name": "Python 3", "language": "python", "name": "python3"}},
 "nbformat": 4,
 "nbformat_minor": 4
}
