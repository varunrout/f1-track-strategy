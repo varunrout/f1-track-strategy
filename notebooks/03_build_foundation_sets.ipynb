{
  "cells": [
    {
      "cell_type": "markdown",
      "metadata": {},
      "source": [
        "# 03 - Build Foundation Sets\n",
        "\n",
        "## Overview\n",
        "Join laps with weather and events to create processed base tables."
      ]
    },
    {
      "cell_type": "code",
      "execution_count": 6,
      "metadata": {},
      "outputs": [],
      "source": [
        "import sys\n",
        "from pathlib import Path\n",
        "sys.path.insert(0, str(Path.cwd().parent / 'src'))\n",
        "\n",
        "import pandas as pd\n",
        "from f1ts import config, io_flat, foundation, validation"
      ]
    },
    {
      "cell_type": "markdown",
      "metadata": {},
      "source": [
        "## Load"
      ]
    },
    {
      "cell_type": "code",
      "execution_count": 7,
      "metadata": {},
      "outputs": [
        {
          "name": "stdout",
          "output_type": "stream",
          "text": [
            "✓ Loaded laps_interim.parquet: 2,533 rows, 13 cols\n",
            "  Dtypes: {'session_key': dtype('O'), 'driver': dtype('O'), 'lap': dtype('int64'), 'lap_time_ms': dtype('int64'), 'sector1_ms': dtype('int64'), 'sector2_ms': dtype('int64'), 'sector3_ms': dtype('int64'), 'compound': dtype('O'), 'tyre_life': dtype('int64'), 'is_pit_lap': dtype('bool'), 'track_status': dtype('O'), 'stint_id': dtype('int64'), 'tyre_age_laps': dtype('int64')}\n",
            "✓ Loaded sessions.csv: 3 rows, 6 cols\n"
          ]
        }
      ],
      "source": [
        "interim_dir = config.paths()['data_interim']\n",
        "raw_dir = config.paths()['data_raw']\n",
        "\n",
        "laps_interim = io_flat.read_parquet(interim_dir / 'laps_interim.parquet')\n",
        "sessions = io_flat.read_csv(raw_dir / 'sessions.csv')\n",
        "\n",
        "# Load all weather files\n",
        "weather_files = list(raw_dir.glob('*_weather.csv'))\n",
        "weather_data = []\n",
        "for wf in weather_files:\n",
        "    weather_data.append(pd.read_csv(wf))\n",
        "weather_raw = pd.concat(weather_data, ignore_index=True) if weather_data else pd.DataFrame()"
      ]
    },
    {
      "cell_type": "markdown",
      "metadata": {},
      "source": [
        "## Transform"
      ]
    },
    {
      "cell_type": "code",
      "execution_count": 8,
      "metadata": {},
      "outputs": [
        {
          "name": "stdout",
          "output_type": "stream",
          "text": [
            "Starting foundation pipeline...\n",
            "✓ Extracted 2 events\n",
            "✓ Built processed laps: 2,533 rows\n",
            "✓ Built stint aggregations: 120 stints\n"
          ]
        },
        {
          "name": "stderr",
          "output_type": "stream",
          "text": [
            "/workspaces/f1-track-strategy/src/f1ts/foundation.py:46: FutureWarning: Series.fillna with 'method' is deprecated and will raise in a future version. Use obj.ffill() or obj.bfill() instead.\n",
            "  laps[col] = laps.groupby('session_key')[col].fillna(method='ffill')\n",
            "/workspaces/f1-track-strategy/src/f1ts/foundation.py:47: FutureWarning: Series.fillna with 'method' is deprecated and will raise in a future version. Use obj.ffill() or obj.bfill() instead.\n",
            "  laps[col] = laps.groupby('session_key')[col].fillna(method='bfill')\n",
            "/workspaces/f1-track-strategy/src/f1ts/foundation.py:46: FutureWarning: Series.fillna with 'method' is deprecated and will raise in a future version. Use obj.ffill() or obj.bfill() instead.\n",
            "  laps[col] = laps.groupby('session_key')[col].fillna(method='ffill')\n",
            "/workspaces/f1-track-strategy/src/f1ts/foundation.py:47: FutureWarning: Series.fillna with 'method' is deprecated and will raise in a future version. Use obj.ffill() or obj.bfill() instead.\n",
            "  laps[col] = laps.groupby('session_key')[col].fillna(method='bfill')\n",
            "/workspaces/f1-track-strategy/src/f1ts/foundation.py:46: FutureWarning: Series.fillna with 'method' is deprecated and will raise in a future version. Use obj.ffill() or obj.bfill() instead.\n",
            "  laps[col] = laps.groupby('session_key')[col].fillna(method='ffill')\n",
            "/workspaces/f1-track-strategy/src/f1ts/foundation.py:47: FutureWarning: Series.fillna with 'method' is deprecated and will raise in a future version. Use obj.ffill() or obj.bfill() instead.\n",
            "  laps[col] = laps.groupby('session_key')[col].fillna(method='bfill')\n",
            "/workspaces/f1-track-strategy/src/f1ts/foundation.py:46: FutureWarning: Series.fillna with 'method' is deprecated and will raise in a future version. Use obj.ffill() or obj.bfill() instead.\n",
            "  laps[col] = laps.groupby('session_key')[col].fillna(method='ffill')\n",
            "/workspaces/f1-track-strategy/src/f1ts/foundation.py:47: FutureWarning: Series.fillna with 'method' is deprecated and will raise in a future version. Use obj.ffill() or obj.bfill() instead.\n",
            "  laps[col] = laps.groupby('session_key')[col].fillna(method='bfill')\n",
            "/workspaces/f1-track-strategy/src/f1ts/foundation.py:46: FutureWarning: Series.fillna with 'method' is deprecated and will raise in a future version. Use obj.ffill() or obj.bfill() instead.\n",
            "  laps[col] = laps.groupby('session_key')[col].fillna(method='ffill')\n",
            "/workspaces/f1-track-strategy/src/f1ts/foundation.py:47: FutureWarning: Series.fillna with 'method' is deprecated and will raise in a future version. Use obj.ffill() or obj.bfill() instead.\n",
            "  laps[col] = laps.groupby('session_key')[col].fillna(method='bfill')\n"
          ]
        }
      ],
      "source": [
        "laps_processed, stints, events = foundation.foundation_pipeline(\n",
        "    laps_interim, weather_raw, sessions\n",
        ")"
      ]
    },
    {
      "cell_type": "markdown",
      "metadata": {},
      "source": [
        "## Validate"
      ]
    },
    {
      "cell_type": "code",
      "execution_count": 9,
      "metadata": {},
      "outputs": [
        {
          "name": "stdout",
          "output_type": "stream",
          "text": [
            "✓ Uniqueness validation passed for laps_processed on ['session_key', 'driver', 'lap']\n",
            "✓ Validations passed\n"
          ]
        }
      ],
      "source": [
        "validation.validate_uniqueness(laps_processed, ['session_key', 'driver', 'lap'], 'laps_processed')\n",
        "print('✓ Validations passed')"
      ]
    },
    {
      "cell_type": "markdown",
      "metadata": {},
      "source": [
        "## Save"
      ]
    },
    {
      "cell_type": "code",
      "execution_count": 10,
      "metadata": {},
      "outputs": [
        {
          "name": "stdout",
          "output_type": "stream",
          "text": [
            "✓ Saved laps_processed.parquet: 2,533 rows, 22 cols\n",
            "✓ Saved stints.parquet: 120 rows, 14 cols\n",
            "✓ Saved events.parquet: 2 rows, 4 cols\n",
            "✓ Saved processed data\n"
          ]
        }
      ],
      "source": [
        "processed_dir = config.paths()['data_processed']\n",
        "io_flat.write_parquet(laps_processed, processed_dir / 'laps_processed.parquet')\n",
        "io_flat.write_parquet(stints, processed_dir / 'stints.parquet')\n",
        "io_flat.write_parquet(events, processed_dir / 'events.parquet')\n",
        "print('✓ Saved processed data')"
      ]
    },
    {
      "cell_type": "markdown",
      "metadata": {},
      "source": [
        "## Repro Notes\n",
        "\n",
        "- Joined laps with weather and events\n",
        "- Built stint aggregations\n",
        "- Extracted racing events from track status"
      ]
    }
  ],
  "metadata": {
    "kernelspec": {
      "display_name": ".venv (3.12.1)",
      "language": "python",
      "name": "python3"
    },
    "language_info": {
      "codemirror_mode": {
        "name": "ipython",
        "version": 3
      },
      "file_extension": ".py",
      "mimetype": "text/x-python",
      "name": "python",
      "nbconvert_exporter": "python",
      "pygments_lexer": "ipython3",
      "version": "3.12.1"
    }
  },
  "nbformat": 4,
  "nbformat_minor": 4
}
