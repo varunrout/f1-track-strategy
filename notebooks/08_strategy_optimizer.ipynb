{
 "cells": [
  {"cell_type": "markdown", "metadata": {}, "source": ["# 08 - Strategy Optimizer\n\n## Overview\nEnumerate and rank pit stop strategies."]},
  {"cell_type": "code", "execution_count": null, "metadata": {}, "outputs": [], "source": ["import sys\nfrom pathlib import Path\nsys.path.insert(0, str(Path.cwd().parent / 'src'))\n\nimport pandas as pd\nfrom f1ts import config, io_flat, optimizer"]},
  {"cell_type": "markdown", "metadata": {}, "source": ["## Load"]},
  {"cell_type": "code", "execution_count": null, "metadata": {}, "outputs": [], "source": ["# Example optimization\ncurrent_state = {\n    'current_lap': 20,\n    'total_laps': 57,\n    'compounds_available': ['SOFT', 'MEDIUM', 'HARD'],\n    'base_lap_time_s': 90.0,\n    'deg_rate_ms_per_lap': 50,\n    'pit_loss_s': 24.0,\n}"]},
  {"cell_type": "markdown", "metadata": {}, "source": ["## Transform: Optimize"]},
  {"cell_type": "code", "execution_count": null, "metadata": {}, "outputs": [], "source": ["strategies = optimizer.optimize_strategy(current_state, max_stops=2)\nprint(strategies.head(10))"]},
  {"cell_type": "markdown", "metadata": {}, "source": ["## Save"]},
  {"cell_type": "code", "execution_count": null, "metadata": {}, "outputs": [], "source": ["features_dir = config.paths()['data_features']\nio_flat.write_parquet(strategies, features_dir / 'strategy_decisions.parquet')\nprint('✓ Saved strategy decisions')"]},
  {"cell_type": "markdown", "metadata": {}, "source": ["## Repro Notes\n\n- Enumerated pit stop strategies\n- Simulated expected finish times\n- Ranked by estimated performance"]}
 ],
 "metadata": {"kernelspec": {"display_name": "Python 3", "language": "python", "name": "python3"}},
 "nbformat": 4,
 "nbformat_minor": 4
}
