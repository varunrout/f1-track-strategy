{
  "cells": [
    {
      "cell_type": "markdown",
      "metadata": {},
      "source": [
        "# 08 - Strategy Optimizer\n",
        "\n",
        "## Overview\n",
        "Enumerate and rank pit stop strategies."
      ]
    },
    {
      "cell_type": "code",
      "execution_count": 1,
      "metadata": {},
      "outputs": [],
      "source": [
        "import sys\n",
        "from pathlib import Path\n",
        "sys.path.insert(0, str(Path.cwd().parent / 'src'))\n",
        "\n",
        "import pandas as pd\n",
        "from f1ts import config, io_flat, optimizer"
      ]
    },
    {
      "cell_type": "markdown",
      "metadata": {},
      "source": [
        "## Load"
      ]
    },
    {
      "cell_type": "code",
      "execution_count": 2,
      "metadata": {},
      "outputs": [],
      "source": [
        "# Example optimization\n",
        "current_state = {\n",
        "    'current_lap': 20,\n",
        "    'total_laps': 57,\n",
        "    'compounds_available': ['SOFT', 'MEDIUM', 'HARD'],\n",
        "    'base_lap_time_s': 90.0,\n",
        "    'deg_rate_ms_per_lap': 50,\n",
        "    'pit_loss_s': 24.0,\n",
        "}"
      ]
    },
    {
      "cell_type": "markdown",
      "metadata": {},
      "source": [
        "## Transform: Optimize"
      ]
    },
    {
      "cell_type": "code",
      "execution_count": 3,
      "metadata": {},
      "outputs": [
        {
          "name": "stdout",
          "output_type": "stream",
          "text": [
            "Evaluating 141 candidate strategies...\n",
            "    n_stops stop_laps             compounds  exp_finish_time_s  \\\n",
            "0         0        []              [\"SOFT\"]           3364.225   \n",
            "1         0        []            [\"MEDIUM\"]           3364.225   \n",
            "2         0        []              [\"HARD\"]           3364.225   \n",
            "15        1      [37]      [\"SOFT\", \"SOFT\"]           3371.225   \n",
            "19        1      [40]  [\"MEDIUM\", \"MEDIUM\"]           3371.225   \n",
            "18        1      [40]      [\"SOFT\", \"SOFT\"]           3371.225   \n",
            "17        1      [37]      [\"HARD\", \"HARD\"]           3371.225   \n",
            "16        1      [37]  [\"MEDIUM\", \"MEDIUM\"]           3371.225   \n",
            "20        1      [40]      [\"HARD\", \"HARD\"]           3371.225   \n",
            "21        1      [43]      [\"SOFT\", \"SOFT\"]           3372.125   \n",
            "\n",
            "                                        strategy_json  delta_to_best_s  \n",
            "0   {\"n_stops\": 0, \"stop_laps\": [], \"compounds\": [...              0.0  \n",
            "1   {\"n_stops\": 0, \"stop_laps\": [], \"compounds\": [...              0.0  \n",
            "2   {\"n_stops\": 0, \"stop_laps\": [], \"compounds\": [...              0.0  \n",
            "15  {\"n_stops\": 1, \"stop_laps\": [37], \"compounds\":...              7.0  \n",
            "19  {\"n_stops\": 1, \"stop_laps\": [40], \"compounds\":...              7.0  \n",
            "18  {\"n_stops\": 1, \"stop_laps\": [40], \"compounds\":...              7.0  \n",
            "17  {\"n_stops\": 1, \"stop_laps\": [37], \"compounds\":...              7.0  \n",
            "16  {\"n_stops\": 1, \"stop_laps\": [37], \"compounds\":...              7.0  \n",
            "20  {\"n_stops\": 1, \"stop_laps\": [40], \"compounds\":...              7.0  \n",
            "21  {\"n_stops\": 1, \"stop_laps\": [43], \"compounds\":...              7.9  \n"
          ]
        }
      ],
      "source": [
        "strategies = optimizer.optimize_strategy(current_state, max_stops=2)\n",
        "print(strategies.head(10))"
      ]
    },
    {
      "cell_type": "markdown",
      "metadata": {},
      "source": [
        "## Save"
      ]
    },
    {
      "cell_type": "code",
      "execution_count": 4,
      "metadata": {},
      "outputs": [
        {
          "name": "stdout",
          "output_type": "stream",
          "text": [
            "✓ Saved strategy_decisions.parquet: 10 rows, 6 cols\n",
            "✓ Saved strategy decisions\n"
          ]
        }
      ],
      "source": [
        "features_dir = config.paths()['data_features']\n",
        "io_flat.write_parquet(strategies, features_dir / 'strategy_decisions.parquet')\n",
        "print('✓ Saved strategy decisions')"
      ]
    },
    {
      "cell_type": "markdown",
      "metadata": {},
      "source": [
        "## Repro Notes\n",
        "\n",
        "- Enumerated pit stop strategies\n",
        "- Simulated expected finish times\n",
        "- Ranked by estimated performance"
      ]
    }
  ],
  "metadata": {
    "kernelspec": {
      "display_name": ".venv (3.12.1)",
      "language": "python",
      "name": "python3"
    },
    "language_info": {
      "codemirror_mode": {
        "name": "ipython",
        "version": 3
      },
      "file_extension": ".py",
      "mimetype": "text/x-python",
      "name": "python",
      "nbconvert_exporter": "python",
      "pygments_lexer": "ipython3",
      "version": "3.12.1"
    }
  },
  "nbformat": 4,
  "nbformat_minor": 4
}
