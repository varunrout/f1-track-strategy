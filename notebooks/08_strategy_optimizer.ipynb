{
  "cells": [
    {
      "cell_type": "markdown",
      "metadata": {},
      "source": [
        "# 08 - Strategy Optimizer\n",
        "\n",
        "## Overview\n",
        "Enumerate and rank pit stop strategies."
      ]
    },
    {
      "cell_type": "code",
      "execution_count": 1,
      "metadata": {},
      "outputs": [],
      "source": [
        "import sys\n",
        "from pathlib import Path\n",
        "sys.path.insert(0, str(Path.cwd().parent / 'src'))\n",
        "\n",
        "import pandas as pd\n",
        "from f1ts import config, io_flat, optimizer"
      ]
    },
    {
      "cell_type": "markdown",
      "metadata": {},
      "source": [
        "## Load"
      ]
    },
    {
      "cell_type": "code",
      "execution_count": 2,
      "metadata": {},
      "outputs": [],
      "source": [
        "# Example optimization\n",
        "current_state = {\n",
        "    'current_lap': 20,\n",
        "    'total_laps': 57,\n",
        "    'compounds_available': ['SOFT', 'MEDIUM', 'HARD'],\n",
        "    'base_lap_time_s': 90.0,\n",
        "    'deg_rate_ms_per_lap': 50,\n",
        "    'pit_loss_s': 24.0,\n",
        "}"
      ]
    },
    {
      "cell_type": "markdown",
      "metadata": {},
      "source": [
        "## Transform: Optimize"
      ]
    },
    {
      "cell_type": "code",
      "execution_count": 3,
      "metadata": {},
      "outputs": [
        {
          "name": "stdout",
          "output_type": "stream",
          "text": [
            "Evaluating 141 candidate strategies...\n",
            "    n_stops stop_laps             compounds  exp_finish_time_s  \\\n",
            "0         0        []              [\"SOFT\"]           3364.225   \n",
            "1         0        []            [\"MEDIUM\"]           3364.225   \n",
            "2         0        []              [\"HARD\"]           3364.225   \n",
            "15        1      [37]      [\"SOFT\", \"SOFT\"]           3371.225   \n",
            "19        1      [40]  [\"MEDIUM\", \"MEDIUM\"]           3371.225   \n",
            "18        1      [40]      [\"SOFT\", \"SOFT\"]           3371.225   \n",
            "17        1      [37]      [\"HARD\", \"HARD\"]           3371.225   \n",
            "16        1      [37]  [\"MEDIUM\", \"MEDIUM\"]           3371.225   \n",
            "20        1      [40]      [\"HARD\", \"HARD\"]           3371.225   \n",
            "21        1      [43]      [\"SOFT\", \"SOFT\"]           3372.125   \n",
            "\n",
            "                                        strategy_json  delta_to_best_s  \n",
            "0   {\"n_stops\": 0, \"stop_laps\": [], \"compounds\": [...              0.0  \n",
            "1   {\"n_stops\": 0, \"stop_laps\": [], \"compounds\": [...              0.0  \n",
            "2   {\"n_stops\": 0, \"stop_laps\": [], \"compounds\": [...              0.0  \n",
            "15  {\"n_stops\": 1, \"stop_laps\": [37], \"compounds\":...              7.0  \n",
            "19  {\"n_stops\": 1, \"stop_laps\": [40], \"compounds\":...              7.0  \n",
            "18  {\"n_stops\": 1, \"stop_laps\": [40], \"compounds\":...              7.0  \n",
            "17  {\"n_stops\": 1, \"stop_laps\": [37], \"compounds\":...              7.0  \n",
            "16  {\"n_stops\": 1, \"stop_laps\": [37], \"compounds\":...              7.0  \n",
            "20  {\"n_stops\": 1, \"stop_laps\": [40], \"compounds\":...              7.0  \n",
            "21  {\"n_stops\": 1, \"stop_laps\": [43], \"compounds\":...              7.9  \n"
          ]
        }
      ],
      "source": [
        "strategies = optimizer.optimize_strategy(current_state, max_stops=2)\n",
        "print(strategies.head(10))"
      ]
    },
    {
      "cell_type": "markdown",
      "metadata": {},
      "source": [
        "## Save"
      ]
    },
    {
      "cell_type": "code",
      "execution_count": 4,
      "metadata": {},
      "outputs": [
        {
          "name": "stdout",
          "output_type": "stream",
          "text": [
            "✓ Saved strategy_decisions.parquet: 10 rows, 6 cols\n",
            "✓ Saved strategy decisions\n"
          ]
        }
      ],
      "source": [
        "features_dir = config.paths()['data_features']\n",
        "io_flat.write_parquet(strategies, features_dir / 'strategy_decisions.parquet')\n",
        "print('✓ Saved strategy decisions')"
      ]
    },
    {
      "cell_type": "markdown",
      "metadata": {},
      "source": [
        "## Repro Notes\n",
        "\n",
        "- Enumerated pit stop strategies\n",
        "- Simulated expected finish times\n",
        "- Ranked by estimated performance"
      ]
    },
    {
      "cell_type": "markdown",
      "metadata": {},
      "source": [
        "# New: Risk-Aware Optimization (Monte Carlo, CVaR, Win Probability)\n",
        "\n",
        "Use degradation quantile models and calibrated hazard probabilities to compute risk metrics: P50/P90 time, CVaR, P(win vs target)."
      ]
    },
    {
      "cell_type": "code",
      "execution_count": null,
      "metadata": {},
      "outputs": [],
      "source": [
        "# Run risk-aware optimization\n",
        "from f1ts import optimizer, io_flat, config\n",
        "import pandas as pd\n",
        "\n",
        "# Load models\n",
        "qm = io_flat.load_model(config.paths()['models'] / 'degradation_quantiles.pkl') if (config.paths()['models'] / 'degradation_quantiles.pkl').exists() else None\n",
        "haz_model = io_flat.load_model(config.paths()['models'] / 'hazard_model.pkl') if (config.paths()['models'] / 'hazard_model.pkl').exists() else None\n",
        "calibrator = io_flat.load_model(config.paths()['models'] / 'hazard_calibrator.pkl') if (config.paths()['models'] / 'hazard_calibrator.pkl').exists() else None\n",
        "\n",
        "models = {'quantile_models': qm, 'hazard_model': haz_model, 'hazard_calibrator': calibrator}\n",
        "\n",
        "# Define current race state (example; replace with actual selected race context)\n",
        "current_state = {\n",
        "    'session_key': '2023_1_R',\n",
        "    'total_laps': 57,\n",
        "    'allowed_compounds': ['SOFT', 'MEDIUM', 'HARD'],\n",
        "}\n",
        "\n",
        "ranked = optimizer.optimize_strategy(\n",
        "    current_state=current_state,\n",
        "    max_stops=2,\n",
        "    risk_aware=True,\n",
        "    models=models,\n",
        "    target_time=None  # set a rival time to compute win probability\n",
        ")\n",
        "\n",
        "ranked.head(10)"
      ]
    }
  ],
  "metadata": {
    "kernelspec": {
      "display_name": ".venv (3.12.1)",
      "language": "python",
      "name": "python3"
    },
    "language_info": {
      "codemirror_mode": {
        "name": "ipython",
        "version": 3
      },
      "file_extension": ".py",
      "mimetype": "text/x-python",
      "name": "python",
      "nbconvert_exporter": "python",
      "pygments_lexer": "ipython3",
      "version": "3.12.1"
    }
  },
  "nbformat": 4,
  "nbformat_minor": 4
}
