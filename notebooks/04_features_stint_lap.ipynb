{
  "cells": [
    {
      "cell_type": "markdown",
      "metadata": {},
      "source": [
        "# 04 - Feature Engineering\n",
        "\n",
        "## Overview\n",
        "Build stint_features.parquet with all required columns for modeling."
      ]
    },
    {
      "cell_type": "code",
      "execution_count": 6,
      "metadata": {},
      "outputs": [],
      "source": [
        "import sys\n",
        "from pathlib import Path\n",
        "sys.path.insert(0, str(Path.cwd().parent / 'src'))\n",
        "\n",
        "import pandas as pd\n",
        "from f1ts import config, io_flat, features, validation"
      ]
    },
    {
      "cell_type": "markdown",
      "metadata": {},
      "source": [
        "## Load"
      ]
    },
    {
      "cell_type": "code",
      "execution_count": 7,
      "metadata": {},
      "outputs": [
        {
          "name": "stdout",
          "output_type": "stream",
          "text": [
            "✓ Loaded laps_processed.parquet: 2,533 rows, 22 cols\n",
            "  Dtypes: {'session_key': dtype('O'), 'driver': dtype('O'), 'lap': dtype('int64'), 'lap_time_ms': dtype('int64'), 'sector1_ms': dtype('int64'), 'sector2_ms': dtype('int64'), 'sector3_ms': dtype('int64'), 'compound': dtype('O'), 'tyre_life': dtype('int64'), 'is_pit_lap': dtype('bool'), 'track_status': dtype('O'), 'stint_id': dtype('int64'), 'tyre_age_laps': dtype('int64'), 'air_temp': dtype('float64'), 'track_temp': dtype('float64'), 'humidity': dtype('float64'), 'rainfall': dtype('bool'), 'wind_speed': dtype('float64'), 'event_type': dtype('O'), 'duration_laps': dtype('float64'), 'lap_number': dtype('int64'), 'circuit_name': dtype('O')}\n",
            "✓ Loaded sessions.csv: 3 rows, 6 cols\n"
          ]
        }
      ],
      "source": [
        "processed_dir = config.paths()['data_processed']\n",
        "raw_dir = config.paths()['data_raw']\n",
        "\n",
        "laps_processed = io_flat.read_parquet(processed_dir / 'laps_processed.parquet')\n",
        "sessions = io_flat.read_csv(raw_dir / 'sessions.csv')\n",
        "\n",
        "pitloss_csv = str(config.paths()['data_lookups'] / 'pitloss_by_circuit.csv')\n",
        "hazard_csv = str(config.paths()['data_lookups'] / 'hazard_priors.csv')"
      ]
    },
    {
      "cell_type": "markdown",
      "metadata": {},
      "source": [
        "## Transform: Assemble Features"
      ]
    },
    {
      "cell_type": "code",
      "execution_count": 8,
      "metadata": {},
      "outputs": [
        {
          "name": "stdout",
          "output_type": "stream",
          "text": [
            "Assembling feature table...\n",
            "✓ Added rolling pace features\n",
            "✓ Estimated degradation slopes\n",
            "✓ Added sector deltas\n",
            "✓ Joined pit loss lookup\n",
            "✓ Added hazard baselines\n",
            "✓ Created degradation target\n",
            "✓ Feature table complete: 2,533 rows, 32 columns\n"
          ]
        },
        {
          "name": "stderr",
          "output_type": "stream",
          "text": [
            "/workspaces/f1-track-strategy/.venv/lib/python3.12/site-packages/numpy/lib/nanfunctions.py:1215: RuntimeWarning: Mean of empty slice\n",
            "  return np.nanmean(a, axis, out=out, keepdims=keepdims)\n"
          ]
        }
      ],
      "source": [
        "stint_features = features.assemble_feature_table(\n",
        "    laps_processed, sessions, pitloss_csv, hazard_csv\n",
        ")"
      ]
    },
    {
      "cell_type": "markdown",
      "metadata": {},
      "source": [
        "## Validate"
      ]
    },
    {
      "cell_type": "code",
      "execution_count": 9,
      "metadata": {},
      "outputs": [
        {
          "name": "stdout",
          "output_type": "stream",
          "text": [
            "✓ Schema validation passed for stint_features\n",
            "✓ Uniqueness validation passed for stint_features on ['session_key', 'driver', 'lap']\n",
            "✓ No NA values in required columns for stint_features\n",
            "✓ Categorical validation passed for stint_features.compound\n",
            "✓ All validations passed for stint_features (2,533 rows)\n",
            "\n",
            "✓ Feature table has 32 columns\n"
          ]
        }
      ],
      "source": [
        "validation.validate_stint_features(stint_features)\n",
        "print(f'\\n✓ Feature table has {len(stint_features.columns)} columns')"
      ]
    },
    {
      "cell_type": "markdown",
      "metadata": {},
      "source": [
        "## Save"
      ]
    },
    {
      "cell_type": "code",
      "execution_count": 10,
      "metadata": {},
      "outputs": [
        {
          "name": "stdout",
          "output_type": "stream",
          "text": [
            "✓ Saved stint_features.parquet: 2,533 rows, 32 cols\n",
            "✓ Saved degradation_train.parquet: 2,533 rows, 32 cols\n",
            "✓ Saved feature tables\n"
          ]
        }
      ],
      "source": [
        "features_dir = config.paths()['data_features']\n",
        "io_flat.write_parquet(stint_features, features_dir / 'stint_features.parquet')\n",
        "\n",
        "# Also save degradation training subset\n",
        "deg_train = stint_features[stint_features['target_deg_ms'].notna()].copy()\n",
        "io_flat.write_parquet(deg_train, features_dir / 'degradation_train.parquet')\n",
        "\n",
        "print('✓ Saved feature tables')"
      ]
    },
    {
      "cell_type": "markdown",
      "metadata": {},
      "source": [
        "## Repro Notes\n",
        "\n",
        "- Added rolling pace features\n",
        "- Estimated degradation slopes\n",
        "- Joined pit loss and hazard lookups\n",
        "- Created degradation target variable"
      ]
    }
  ],
  "metadata": {
    "kernelspec": {
      "display_name": ".venv (3.12.1)",
      "language": "python",
      "name": "python3"
    },
    "language_info": {
      "codemirror_mode": {
        "name": "ipython",
        "version": 3
      },
      "file_extension": ".py",
      "mimetype": "text/x-python",
      "name": "python",
      "nbconvert_exporter": "python",
      "pygments_lexer": "ipython3",
      "version": "3.12.1"
    }
  },
  "nbformat": 4,
  "nbformat_minor": 4
}
