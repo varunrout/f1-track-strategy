{
 "cells": [
  {"cell_type": "markdown", "metadata": {}, "source": ["# 04 - Feature Engineering\n\n## Overview\nBuild stint_features.parquet with all required columns for modeling."]},
  {"cell_type": "code", "execution_count": null, "metadata": {}, "outputs": [], "source": ["import sys\nfrom pathlib import Path\nsys.path.insert(0, str(Path.cwd().parent / 'src'))\n\nimport pandas as pd\nfrom f1ts import config, io_flat, features, validation"]},
  {"cell_type": "markdown", "metadata": {}, "source": ["## Load"]},
  {"cell_type": "code", "execution_count": null, "metadata": {}, "outputs": [], "source": ["processed_dir = config.paths()['data_processed']\nraw_dir = config.paths()['data_raw']\n\nlaps_processed = io_flat.read_parquet(processed_dir / 'laps_processed.parquet')\nsessions = io_flat.read_csv(raw_dir / 'sessions.csv')\n\npitloss_csv = str(config.paths()['data_lookups'] / 'pitloss_by_circuit.csv')\nhazard_csv = str(config.paths()['data_lookups'] / 'hazard_priors.csv')"]},
  {"cell_type": "markdown", "metadata": {}, "source": ["## Transform: Assemble Features"]},
  {"cell_type": "code", "execution_count": null, "metadata": {}, "outputs": [], "source": ["stint_features = features.assemble_feature_table(\n    laps_processed, sessions, pitloss_csv, hazard_csv\n)"]},
  {"cell_type": "markdown", "metadata": {}, "source": ["## Validate"]},
  {"cell_type": "code", "execution_count": null, "metadata": {}, "outputs": [], "source": ["validation.validate_stint_features(stint_features)\nprint(f'\\n✓ Feature table has {len(stint_features.columns)} columns')"]},
  {"cell_type": "markdown", "metadata": {}, "source": ["## Save"]},
  {"cell_type": "code", "execution_count": null, "metadata": {}, "outputs": [], "source": ["features_dir = config.paths()['data_features']\nio_flat.write_parquet(stint_features, features_dir / 'stint_features.parquet')\n\n# Also save degradation training subset\ndeg_train = stint_features[stint_features['target_deg_ms'].notna()].copy()\nio_flat.write_parquet(deg_train, features_dir / 'degradation_train.parquet')\n\nprint('✓ Saved feature tables')"]},
  {"cell_type": "markdown", "metadata": {}, "source": ["## Repro Notes\n\n- Added rolling pace features\n- Estimated degradation slopes\n- Joined pit loss and hazard lookups\n- Created degradation target variable"]}
 ],
 "metadata": {"kernelspec": {"display_name": "Python 3", "language": "python", "name": "python3"}},
 "nbformat": 4,
 "nbformat_minor": 4
}
