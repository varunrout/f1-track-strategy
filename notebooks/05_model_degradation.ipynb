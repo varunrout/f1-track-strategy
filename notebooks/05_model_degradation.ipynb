{
  "cells": [
    {
      "cell_type": "markdown",
      "metadata": {},
      "source": [
        "# 05 - Degradation Model\n",
        "\n",
        "## Overview\n",
        "Train LightGBM model to predict tyre degradation."
      ]
    },
    {
      "cell_type": "code",
      "execution_count": 4,
      "metadata": {},
      "outputs": [],
      "source": [
        "import sys\n",
        "from pathlib import Path\n",
        "sys.path.insert(0, str(Path.cwd().parent / 'src'))\n",
        "\n",
        "import pandas as pd\n",
        "import matplotlib.pyplot as plt\n",
        "from f1ts import config, io_flat, models_degradation, validation"
      ]
    },
    {
      "cell_type": "markdown",
      "metadata": {},
      "source": [
        "## Load"
      ]
    },
    {
      "cell_type": "code",
      "execution_count": 5,
      "metadata": {},
      "outputs": [
        {
          "name": "stdout",
          "output_type": "stream",
          "text": [
            "✓ Loaded degradation_train.parquet: 2,533 rows, 32 cols\n",
            "  Dtypes: {'session_key': dtype('O'), 'driver': dtype('O'), 'lap': dtype('int64'), 'lap_time_ms': dtype('int64'), 'sector1_ms': dtype('int64'), 'sector2_ms': dtype('int64'), 'sector3_ms': dtype('int64'), 'compound': dtype('O'), 'tyre_life': dtype('int64'), 'is_pit_lap': dtype('bool'), 'track_status': dtype('O'), 'stint_id': dtype('int64'), 'tyre_age_laps': dtype('int64'), 'air_temp': dtype('float64'), 'track_temp': dtype('float64'), 'humidity': dtype('float64'), 'rainfall': dtype('bool'), 'wind_speed': dtype('float64'), 'event_type': dtype('O'), 'duration_laps': dtype('float64'), 'lap_number': dtype('int64'), 'circuit_name': dtype('O'), 'pace_delta_roll3': dtype('float64'), 'pace_delta_roll5': dtype('float64'), 'deg_slope_last5': dtype('float64'), 'sector1_delta': dtype('int64'), 'sector2_delta': dtype('int64'), 'sector3_delta': dtype('int64'), 'pit_loss_s': dtype('float64'), 'sc_prob_next5': dtype('float64'), 'vsc_prob_next5': dtype('float64'), 'target_deg_ms': dtype('float64')}\n"
          ]
        }
      ],
      "source": [
        "features_dir = config.paths()['data_features']\n",
        "deg_train = io_flat.read_parquet(features_dir / 'degradation_train.parquet')"
      ]
    },
    {
      "cell_type": "markdown",
      "metadata": {},
      "source": [
        "## Transform: Train Model"
      ]
    },
    {
      "cell_type": "code",
      "execution_count": 9,
      "metadata": {},
      "outputs": [
        {
          "name": "stdout",
          "output_type": "stream",
          "text": [
            "models_degradation reloaded: /workspaces/f1-track-strategy/src/f1ts/models_degradation.py\n"
          ]
        }
      ],
      "source": [
        "# Ensure latest code is loaded after edits\n",
        "import importlib\n",
        "import f1ts.models_degradation as _md\n",
        "importlib.reload(_md)\n",
        "from f1ts import models_degradation\n",
        "print(\"models_degradation reloaded:\", models_degradation.__file__)"
      ]
    },
    {
      "cell_type": "code",
      "execution_count": 10,
      "metadata": {},
      "outputs": [
        {
          "name": "stdout",
          "output_type": "stream",
          "text": [
            "Training samples: 1,782\n",
            "Test samples: 751\n",
            "Training degradation model...\n",
            "Degradation Model Evaluation:\n",
            "  MAE: 0.941s (940.7ms)\n",
            "  RMSE: 1.132s (1132.0ms)\n",
            "  Samples: 751\n"
          ]
        }
      ],
      "source": [
        "model, metrics = models_degradation.train_and_evaluate(deg_train)"
      ]
    },
    {
      "cell_type": "markdown",
      "metadata": {},
      "source": [
        "## Validate: Check Quality Gate"
      ]
    },
    {
      "cell_type": "code",
      "execution_count": null,
      "metadata": {},
      "outputs": [],
      "source": [
        "try:\n",
        "    validation.validate_degradation_model_quality(metrics['mae_s'])\n",
        "except validation.ValidationError as e:\n",
        "    print(f'⚠️  Quality gate not met (lenient threshold): {e}')"
      ]
    },
    {
      "cell_type": "markdown",
      "metadata": {},
      "source": [
        "## Save"
      ]
    },
    {
      "cell_type": "code",
      "execution_count": null,
      "metadata": {},
      "outputs": [],
      "source": [
        "models_dir = config.paths()['models']\n",
        "io_flat.save_model(model, models_dir / 'degradation_v0.pkl')\n",
        "\n",
        "metrics_dir = config.paths()['metrics']\n",
        "io_flat.save_json(metrics, metrics_dir / 'degradation_metrics.json')\n",
        "\n",
        "print('✓ Saved model and metrics')"
      ]
    },
    {
      "cell_type": "markdown",
      "metadata": {},
      "source": [
        "## Repro Notes\n",
        "\n",
        "- Trained LightGBM degradation model\n",
        "- Split by session to avoid leakage\n",
        "- Saved model and evaluation metrics"
      ]
    }
  ],
  "metadata": {
    "kernelspec": {
      "display_name": ".venv (3.12.1)",
      "language": "python",
      "name": "python3"
    },
    "language_info": {
      "codemirror_mode": {
        "name": "ipython",
        "version": 3
      },
      "file_extension": ".py",
      "mimetype": "text/x-python",
      "name": "python",
      "nbconvert_exporter": "python",
      "pygments_lexer": "ipython3",
      "version": "3.12.1"
    }
  },
  "nbformat": 4,
  "nbformat_minor": 4
}
