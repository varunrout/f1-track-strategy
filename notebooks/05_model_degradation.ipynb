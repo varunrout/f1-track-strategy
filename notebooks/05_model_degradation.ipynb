{
 "cells": [
  {"cell_type": "markdown", "metadata": {}, "source": ["# 05 - Degradation Model\n\n## Overview\nTrain LightGBM model to predict tyre degradation."]},
  {"cell_type": "code", "execution_count": null, "metadata": {}, "outputs": [], "source": ["import sys\nfrom pathlib import Path\nsys.path.insert(0, str(Path.cwd().parent / 'src'))\n\nimport pandas as pd\nimport matplotlib.pyplot as plt\nfrom f1ts import config, io_flat, models_degradation, validation"]},
  {"cell_type": "markdown", "metadata": {}, "source": ["## Load"]},
  {"cell_type": "code", "execution_count": null, "metadata": {}, "outputs": [], "source": ["features_dir = config.paths()['data_features']\ndeg_train = io_flat.read_parquet(features_dir / 'degradation_train.parquet')"]},
  {"cell_type": "markdown", "metadata": {}, "source": ["## Transform: Train Model"]},
  {"cell_type": "code", "execution_count": null, "metadata": {}, "outputs": [], "source": ["model, metrics = models_degradation.train_and_evaluate(deg_train)"]},
  {"cell_type": "markdown", "metadata": {}, "source": ["## Validate: Check Quality Gate"]},
  {"cell_type": "code", "execution_count": null, "metadata": {}, "outputs": [], "source": ["try:\n    validation.validate_degradation_model_quality(metrics['mae_s'])\nexcept validation.ValidationError as e:\n    print(f'⚠️  Quality gate not met (lenient threshold): {e}')"]},
  {"cell_type": "markdown", "metadata": {}, "source": ["## Save"]},
  {"cell_type": "code", "execution_count": null, "metadata": {}, "outputs": [], "source": ["models_dir = config.paths()['models']\nio_flat.save_model(model, models_dir / 'degradation_v0.pkl')\n\nmetrics_dir = config.paths()['metrics']\nio_flat.save_json(metrics, metrics_dir / 'degradation_metrics.json')\n\nprint('✓ Saved model and metrics')"]},
  {"cell_type": "markdown", "metadata": {}, "source": ["## Repro Notes\n\n- Trained LightGBM degradation model\n- Split by session to avoid leakage\n- Saved model and evaluation metrics"]}
 ],
 "metadata": {"kernelspec": {"display_name": "Python 3", "language": "python", "name": "python3"}},
 "nbformat": 4,
 "nbformat_minor": 4
}
