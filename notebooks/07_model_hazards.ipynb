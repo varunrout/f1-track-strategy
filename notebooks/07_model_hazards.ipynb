{
  "cells": [
    {
      "cell_type": "markdown",
      "metadata": {},
      "source": [
        "# 07 - Hazard Model\n",
        "\n",
        "## Overview\n",
        "Compute circuit-level hazard rates for SC/VSC."
      ]
    },
    {
      "cell_type": "code",
      "execution_count": 1,
      "metadata": {},
      "outputs": [],
      "source": [
        "import sys\n",
        "from pathlib import Path\n",
        "sys.path.insert(0, str(Path.cwd().parent / 'src'))\n",
        "\n",
        "import pandas as pd\n",
        "from f1ts import config, io_flat, models_hazards"
      ]
    },
    {
      "cell_type": "markdown",
      "metadata": {},
      "source": [
        "## Load"
      ]
    },
    {
      "cell_type": "code",
      "execution_count": 2,
      "metadata": {},
      "outputs": [
        {
          "name": "stdout",
          "output_type": "stream",
          "text": [
            "✓ Loaded events.parquet: 39 rows, 4 cols\n",
            "  Dtypes: {'session_key': dtype('O'), 'lap': dtype('int64'), 'event_type': dtype('O'), 'duration_laps': dtype('int64')}\n",
            "✓ Loaded laps_processed.parquet: 21,120 rows, 22 cols\n",
            "  Dtypes: {'session_key': dtype('O'), 'driver': dtype('O'), 'lap': dtype('int64'), 'lap_time_ms': dtype('int64'), 'sector1_ms': dtype('int64'), 'sector2_ms': dtype('int64'), 'sector3_ms': dtype('int64'), 'compound': dtype('O'), 'tyre_life': dtype('int64'), 'is_pit_lap': dtype('bool'), 'track_status': dtype('O'), 'stint_id': dtype('int64'), 'tyre_age_laps': dtype('int64'), 'air_temp': dtype('float64'), 'track_temp': dtype('float64'), 'humidity': dtype('float64'), 'rainfall': dtype('bool'), 'wind_speed': dtype('float64'), 'event_type': dtype('O'), 'duration_laps': dtype('float64'), 'lap_number': dtype('int64'), 'circuit_name': dtype('O')}\n",
            "✓ Loaded sessions.csv: 22 rows, 6 cols\n"
          ]
        }
      ],
      "source": [
        "processed_dir = config.paths()['data_processed']\n",
        "raw_dir = config.paths()['data_raw']\n",
        "\n",
        "events = io_flat.read_parquet(processed_dir / 'events.parquet')\n",
        "laps = io_flat.read_parquet(processed_dir / 'laps_processed.parquet')\n",
        "sessions = io_flat.read_csv(raw_dir / 'sessions.csv')"
      ]
    },
    {
      "cell_type": "markdown",
      "metadata": {},
      "source": [
        "## Transform"
      ]
    },
    {
      "cell_type": "code",
      "execution_count": 3,
      "metadata": {},
      "outputs": [
        {
          "name": "stdout",
          "output_type": "stream",
          "text": [
            "                circuit_name  sc_per_10laps  vsc_per_10laps\n",
            "0       Abu Dhabi Grand Prix       0.000000        0.000000\n",
            "1      Australian Grand Prix       0.000000        0.000000\n",
            "2        Austrian Grand Prix       0.000000        0.000000\n",
            "3      Azerbaijan Grand Prix       0.000000        0.000000\n",
            "4         Bahrain Grand Prix       0.000000        0.000000\n",
            "5         Belgian Grand Prix       0.000000        0.000000\n",
            "6         British Grand Prix       0.000000        0.000000\n",
            "7        Canadian Grand Prix       0.000000        0.000000\n",
            "8           Dutch Grand Prix       0.010030        0.000000\n",
            "9       Hungarian Grand Prix       0.000000        0.000000\n",
            "10        Italian Grand Prix       0.000000        0.000000\n",
            "11       Japanese Grand Prix       0.013661        0.000000\n",
            "12      Las Vegas Grand Prix       0.000000        0.000000\n",
            "13    Mexico City Grand Prix       0.000000        0.008889\n",
            "14          Miami Grand Prix       0.000000        0.000000\n",
            "15         Monaco Grand Prix       0.000000        0.000000\n",
            "16          Qatar Grand Prix       0.000000        0.000000\n",
            "17  Saudi Arabian Grand Prix       0.000000        0.000000\n",
            "18      Singapore Grand Prix       0.010593        0.000000\n",
            "19        Spanish Grand Prix       0.000000        0.000000\n",
            "20      São Paulo Grand Prix       0.000000        0.000000\n",
            "21  United States Grand Prix       0.000000        0.000000\n"
          ]
        }
      ],
      "source": [
        "hazard_rates = models_hazards.compute_circuit_hazard_rates(events, laps, sessions)\n",
        "print(hazard_rates)"
      ]
    },
    {
      "cell_type": "markdown",
      "metadata": {},
      "source": [
        "## Save"
      ]
    },
    {
      "cell_type": "code",
      "execution_count": null,
      "metadata": {},
      "outputs": [
        {
          "name": "stdout",
          "output_type": "stream",
          "text": [
            "✓ Hazard analysis complete\n"
          ]
        }
      ],
      "source": [
        "paths = config.paths()\n",
        "lookups_dir = paths['data_lookups']\n",
        "\n",
        "# Save computed hazard rates to lookup\n",
        "try:\n",
        "    if 'hazard_rates' in locals() and isinstance(hazard_rates, pd.DataFrame) and len(hazard_rates) > 0:\n",
        "        out_path = lookups_dir / 'hazard_computed.csv'\n",
        "        hazard_rates.to_csv(out_path, index=False)\n",
        "        print(f\"✓ Saved hazard lookup to {out_path}\")\n",
        "    else:\n",
        "        print('No hazard rates to save.')\n",
        "except Exception as e:\n",
        "    print(f\"Failed to save hazard lookup: {e}\")"
      ]
    },
    {
      "cell_type": "markdown",
      "metadata": {},
      "source": [
        "## Repro Notes\n",
        "\n",
        "- Computed SC/VSC rates per circuit\n",
        "- Used historical event frequencies"
      ]
    }
  ],
  "metadata": {
    "kernelspec": {
      "display_name": ".venv",
      "language": "python",
      "name": "python3"
    },
    "language_info": {
      "codemirror_mode": {
        "name": "ipython",
        "version": 3
      },
      "file_extension": ".py",
      "mimetype": "text/x-python",
      "name": "python",
      "nbconvert_exporter": "python",
      "pygments_lexer": "ipython3",
      "version": "3.12.1"
    }
  },
  "nbformat": 4,
  "nbformat_minor": 4
}
