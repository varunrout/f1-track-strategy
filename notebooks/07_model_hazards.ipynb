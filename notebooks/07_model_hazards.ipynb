{
 "cells": [
  {"cell_type": "markdown", "metadata": {}, "source": ["# 07 - Hazard Model\n\n## Overview\nCompute circuit-level hazard rates for SC/VSC."]},
  {"cell_type": "code", "execution_count": null, "metadata": {}, "outputs": [], "source": ["import sys\nfrom pathlib import Path\nsys.path.insert(0, str(Path.cwd().parent / 'src'))\n\nimport pandas as pd\nfrom f1ts import config, io_flat, models_hazards"]},
  {"cell_type": "markdown", "metadata": {}, "source": ["## Load"]},
  {"cell_type": "code", "execution_count": null, "metadata": {}, "outputs": [], "source": ["processed_dir = config.paths()['data_processed']\nraw_dir = config.paths()['data_raw']\n\nevents = io_flat.read_parquet(processed_dir / 'events.parquet')\nlaps = io_flat.read_parquet(processed_dir / 'laps_processed.parquet')\nsessions = io_flat.read_csv(raw_dir / 'sessions.csv')"]},
  {"cell_type": "markdown", "metadata": {}, "source": ["## Transform"]},
  {"cell_type": "code", "execution_count": null, "metadata": {}, "outputs": [], "source": ["hazard_rates = models_hazards.compute_circuit_hazard_rates(events, laps, sessions)\nprint(hazard_rates)"]},
  {"cell_type": "markdown", "metadata": {}, "source": ["## Save"]},
  {"cell_type": "code", "execution_count": null, "metadata": {}, "outputs": [], "source": ["print('✓ Hazard analysis complete')"]},
  {"cell_type": "markdown", "metadata": {}, "source": ["## Repro Notes\n\n- Computed SC/VSC rates per circuit\n- Used historical event frequencies"]}
 ],
 "metadata": {"kernelspec": {"display_name": "Python 3", "language": "python", "name": "python3"}},
 "nbformat": 4,
 "nbformat_minor": 4
}
