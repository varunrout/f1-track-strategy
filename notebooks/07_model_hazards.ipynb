{
  "cells": [
    {
      "cell_type": "markdown",
      "metadata": {},
      "source": [
        "# 07 - Hazard Model\n",
        "\n",
        "## Overview\n",
        "Compute circuit-level hazard rates for SC/VSC."
      ]
    },
    {
      "cell_type": "code",
      "execution_count": 5,
      "metadata": {},
      "outputs": [],
      "source": [
        "import sys\n",
        "from pathlib import Path\n",
        "sys.path.insert(0, str(Path.cwd().parent / 'src'))\n",
        "\n",
        "import pandas as pd\n",
        "from f1ts import config, io_flat, models_hazards"
      ]
    },
    {
      "cell_type": "markdown",
      "metadata": {},
      "source": [
        "## Load"
      ]
    },
    {
      "cell_type": "code",
      "execution_count": 6,
      "metadata": {},
      "outputs": [
        {
          "name": "stdout",
          "output_type": "stream",
          "text": [
            "✓ Loaded events.parquet: 2 rows, 4 cols\n",
            "  Dtypes: {'session_key': dtype('O'), 'lap': dtype('int64'), 'event_type': dtype('O'), 'duration_laps': dtype('int64')}\n",
            "✓ Loaded laps_processed.parquet: 2,533 rows, 22 cols\n",
            "  Dtypes: {'session_key': dtype('O'), 'driver': dtype('O'), 'lap': dtype('int64'), 'lap_time_ms': dtype('int64'), 'sector1_ms': dtype('int64'), 'sector2_ms': dtype('int64'), 'sector3_ms': dtype('int64'), 'compound': dtype('O'), 'tyre_life': dtype('int64'), 'is_pit_lap': dtype('bool'), 'track_status': dtype('O'), 'stint_id': dtype('int64'), 'tyre_age_laps': dtype('int64'), 'air_temp': dtype('float64'), 'track_temp': dtype('float64'), 'humidity': dtype('float64'), 'rainfall': dtype('bool'), 'wind_speed': dtype('float64'), 'event_type': dtype('O'), 'duration_laps': dtype('float64'), 'lap_number': dtype('int64'), 'circuit_name': dtype('O')}\n",
            "✓ Loaded sessions.csv: 3 rows, 6 cols\n"
          ]
        }
      ],
      "source": [
        "processed_dir = config.paths()['data_processed']\n",
        "raw_dir = config.paths()['data_raw']\n",
        "\n",
        "events = io_flat.read_parquet(processed_dir / 'events.parquet')\n",
        "laps = io_flat.read_parquet(processed_dir / 'laps_processed.parquet')\n",
        "sessions = io_flat.read_csv(raw_dir / 'sessions.csv')"
      ]
    },
    {
      "cell_type": "markdown",
      "metadata": {},
      "source": [
        "## Transform"
      ]
    },
    {
      "cell_type": "code",
      "execution_count": 7,
      "metadata": {},
      "outputs": [
        {
          "name": "stdout",
          "output_type": "stream",
          "text": [
            "               circuit_name  sc_per_10laps  vsc_per_10laps\n",
            "0     Australian Grand Prix            0.0             0.0\n",
            "1        Bahrain Grand Prix            0.0             0.0\n",
            "2  Saudi Arabian Grand Prix            0.0             0.0\n"
          ]
        }
      ],
      "source": [
        "hazard_rates = models_hazards.compute_circuit_hazard_rates(events, laps, sessions)\n",
        "print(hazard_rates)"
      ]
    },
    {
      "cell_type": "markdown",
      "metadata": {},
      "source": [
        "## Save"
      ]
    },
    {
      "cell_type": "code",
      "execution_count": 8,
      "metadata": {},
      "outputs": [
        {
          "name": "stdout",
          "output_type": "stream",
          "text": [
            "✓ Hazard analysis complete\n"
          ]
        }
      ],
      "source": [
        "print('✓ Hazard analysis complete')"
      ]
    },
    {
      "cell_type": "markdown",
      "metadata": {},
      "source": [
        "## Repro Notes\n",
        "\n",
        "- Computed SC/VSC rates per circuit\n",
        "- Used historical event frequencies"
      ]
    }
  ],
  "metadata": {
    "kernelspec": {
      "display_name": ".venv (3.12.1)",
      "language": "python",
      "name": "python3"
    },
    "language_info": {
      "codemirror_mode": {
        "name": "ipython",
        "version": 3
      },
      "file_extension": ".py",
      "mimetype": "text/x-python",
      "name": "python",
      "nbconvert_exporter": "python",
      "pygments_lexer": "ipython3",
      "version": "3.12.1"
    }
  },
  "nbformat": 4,
  "nbformat_minor": 4
}
