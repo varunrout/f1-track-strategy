{
  "cells": [
    {
      "cell_type": "markdown",
      "metadata": {},
      "source": [
        "# 09 - Backtest Replay\n",
        "\n",
        "## Overview\n",
        "Backtest strategy recommendations against actual race outcomes."
      ]
    },
    {
      "cell_type": "code",
      "execution_count": 1,
      "metadata": {},
      "outputs": [],
      "source": [
        "import sys\n",
        "from pathlib import Path\n",
        "sys.path.insert(0, str(Path.cwd().parent / 'src'))\n",
        "\n",
        "import pandas as pd\n",
        "import json\n",
        "from f1ts import config, io_flat"
      ]
    },
    {
      "cell_type": "markdown",
      "metadata": {},
      "source": [
        "## Load"
      ]
    },
    {
      "cell_type": "code",
      "execution_count": 2,
      "metadata": {},
      "outputs": [
        {
          "name": "stdout",
          "output_type": "stream",
          "text": [
            "✓ Loaded strategy_decisions.parquet: 10 rows, 6 cols\n",
            "  Dtypes: {'n_stops': dtype('int64'), 'stop_laps': dtype('O'), 'compounds': dtype('O'), 'exp_finish_time_s': dtype('float64'), 'strategy_json': dtype('O'), 'delta_to_best_s': dtype('float64')}\n"
          ]
        }
      ],
      "source": [
        "features_dir = config.paths()['data_features']\n",
        "strategies = io_flat.read_parquet(features_dir / 'strategy_decisions.parquet')"
      ]
    },
    {
      "cell_type": "markdown",
      "metadata": {},
      "source": [
        "## Transform: Compute Regret"
      ]
    },
    {
      "cell_type": "code",
      "execution_count": 3,
      "metadata": {},
      "outputs": [
        {
          "name": "stdout",
          "output_type": "stream",
          "text": [
            "Best strategy finish time: 3364.2s\n",
            "Average regret: 4.99s\n"
          ]
        }
      ],
      "source": [
        "# Simple regret calculation\n",
        "if len(strategies) > 0:\n",
        "    best_time = strategies['exp_finish_time_s'].min()\n",
        "    strategies['regret_s'] = strategies['exp_finish_time_s'] - best_time\n",
        "    print(f'Best strategy finish time: {best_time:.1f}s')\n",
        "    print(f'Average regret: {strategies[\"regret_s\"].mean():.2f}s')"
      ]
    },
    {
      "cell_type": "markdown",
      "metadata": {},
      "source": [
        "## Save"
      ]
    },
    {
      "cell_type": "code",
      "execution_count": null,
      "metadata": {},
      "outputs": [],
      "source": [
        "backtest_summary = {\n",
        "    'n_strategies_evaluated': len(strategies),\n",
        "    'best_finish_time_s': float(strategies['exp_finish_time_s'].min()) if len(strategies) > 0 else None,\n",
        "    'mean_regret_s': float(strategies['regret_s'].mean()) if len(strategies) > 0 else None,\n",
        "}\n",
        "\n",
        "metrics_dir = config.paths()['metrics']\n",
        "io_flat.save_json(backtest_summary, metrics_dir / 'backtest_summary.json')\n",
        "print('✓ Saved backtest summary')"
      ]
    },
    {
      "cell_type": "markdown",
      "metadata": {},
      "source": [
        "## Repro Notes\n",
        "\n",
        "- Computed regret vs optimal strategy\n",
        "- Saved backtest metrics"
      ]
    }
  ],
  "metadata": {
    "kernelspec": {
      "display_name": ".venv (3.12.1)",
      "language": "python",
      "name": "python3"
    },
    "language_info": {
      "codemirror_mode": {
        "name": "ipython",
        "version": 3
      },
      "file_extension": ".py",
      "mimetype": "text/x-python",
      "name": "python",
      "nbconvert_exporter": "python",
      "pygments_lexer": "ipython3",
      "version": "3.12.1"
    }
  },
  "nbformat": 4,
  "nbformat_minor": 4
}
