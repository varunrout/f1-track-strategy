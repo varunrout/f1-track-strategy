{
 "cells": [
  {"cell_type": "markdown", "metadata": {}, "source": ["# 09 - Backtest Replay\n\n## Overview\nBacktest strategy recommendations against actual race outcomes."]},
  {"cell_type": "code", "execution_count": null, "metadata": {}, "outputs": [], "source": ["import sys\nfrom pathlib import Path\nsys.path.insert(0, str(Path.cwd().parent / 'src'))\n\nimport pandas as pd\nimport json\nfrom f1ts import config, io_flat"]},
  {"cell_type": "markdown", "metadata": {}, "source": ["## Load"]},
  {"cell_type": "code", "execution_count": null, "metadata": {}, "outputs": [], "source": ["features_dir = config.paths()['data_features']\nstrategies = io_flat.read_parquet(features_dir / 'strategy_decisions.parquet')"]},
  {"cell_type": "markdown", "metadata": {}, "source": ["## Transform: Compute Regret"]},
  {"cell_type": "code", "execution_count": null, "metadata": {}, "outputs": [], "source": ["# Simple regret calculation\nif len(strategies) > 0:\n    best_time = strategies['exp_finish_time_s'].min()\n    strategies['regret_s'] = strategies['exp_finish_time_s'] - best_time\n    print(f'Best strategy finish time: {best_time:.1f}s')\n    print(f'Average regret: {strategies[\"regret_s\"].mean():.2f}s')"]},
  {"cell_type": "markdown", "metadata": {}, "source": ["## Save"]},
  {"cell_type": "code", "execution_count": null, "metadata": {}, "outputs": [], "source": ["backtest_summary = {\n    'n_strategies_evaluated': len(strategies),\n    'best_finish_time_s': float(strategies['exp_finish_time_s'].min()) if len(strategies) > 0 else None,\n    'mean_regret_s': float(strategies['regret_s'].mean()) if len(strategies) > 0 else None,\n}\n\nmetrics_dir = config.paths()['metrics']\nio_flat.save_json(backtest_summary, metrics_dir / 'backtest_summary.json')\nprint('✓ Saved backtest summary')"]},
  {"cell_type": "markdown", "metadata": {}, "source": ["## Repro Notes\n\n- Computed regret vs optimal strategy\n- Saved backtest metrics"]}
 ],
 "metadata": {"kernelspec": {"display_name": "Python 3", "language": "python", "name": "python3"}},
 "nbformat": 4,
 "nbformat_minor": 4
}
