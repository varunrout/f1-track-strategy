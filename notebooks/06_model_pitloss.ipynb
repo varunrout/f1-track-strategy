{
  "cells": [
    {
      "cell_type": "markdown",
      "metadata": {},
      "source": [
        "# 06 - Pit Loss Model\n",
        "\n",
        "## Overview\n",
        "Compute circuit-average pit losses."
      ]
    },
    {
      "cell_type": "code",
      "execution_count": 5,
      "metadata": {},
      "outputs": [],
      "source": [
        "import sys\n",
        "from pathlib import Path\n",
        "sys.path.insert(0, str(Path.cwd().parent / 'src'))\n",
        "\n",
        "import pandas as pd\n",
        "from f1ts import config, io_flat, models_pitloss"
      ]
    },
    {
      "cell_type": "markdown",
      "metadata": {},
      "source": [
        "## Load"
      ]
    },
    {
      "cell_type": "code",
      "execution_count": 6,
      "metadata": {},
      "outputs": [
        {
          "name": "stdout",
          "output_type": "stream",
          "text": [
            "✓ Loaded sessions.csv: 3 rows, 6 cols\n"
          ]
        }
      ],
      "source": [
        "raw_dir = config.paths()['data_raw']\n",
        "pitstops_files = list(raw_dir.glob('*_pitstops.csv'))\n",
        "all_pitstops = []\n",
        "for pf in pitstops_files:\n",
        "    if pf.stat().st_size > 0:\n",
        "        all_pitstops.append(pd.read_csv(pf))\n",
        "pitstops = pd.concat(all_pitstops, ignore_index=True) if all_pitstops else pd.DataFrame()\n",
        "sessions = io_flat.read_csv(raw_dir / 'sessions.csv')"
      ]
    },
    {
      "cell_type": "markdown",
      "metadata": {},
      "source": [
        "## Transform"
      ]
    },
    {
      "cell_type": "code",
      "execution_count": 7,
      "metadata": {},
      "outputs": [
        {
          "name": "stdout",
          "output_type": "stream",
          "text": [
            "Empty DataFrame\n",
            "Columns: [circuit_name, pit_loss_s, pit_loss_std, n_stops]\n",
            "Index: []\n"
          ]
        }
      ],
      "source": [
        "if len(pitstops) > 0:\n",
        "    circuit_avg = models_pitloss.compute_circuit_averages(pitstops, sessions)\n",
        "    print(circuit_avg)\n",
        "else:\n",
        "    print('No pit stop data available')"
      ]
    },
    {
      "cell_type": "markdown",
      "metadata": {},
      "source": [
        "## Save"
      ]
    },
    {
      "cell_type": "code",
      "execution_count": 8,
      "metadata": {},
      "outputs": [
        {
          "name": "stdout",
          "output_type": "stream",
          "text": [
            "✓ Pit loss analysis complete\n"
          ]
        }
      ],
      "source": [
        "print('✓ Pit loss analysis complete')"
      ]
    },
    {
      "cell_type": "markdown",
      "metadata": {},
      "source": [
        "## Repro Notes\n",
        "\n",
        "- Computed average pit loss by circuit\n",
        "- Used simple averaging baseline"
      ]
    }
  ],
  "metadata": {
    "kernelspec": {
      "display_name": ".venv (3.12.1)",
      "language": "python",
      "name": "python3"
    },
    "language_info": {
      "codemirror_mode": {
        "name": "ipython",
        "version": 3
      },
      "file_extension": ".py",
      "mimetype": "text/x-python",
      "name": "python",
      "nbconvert_exporter": "python",
      "pygments_lexer": "ipython3",
      "version": "3.12.1"
    }
  },
  "nbformat": 4,
  "nbformat_minor": 4
}
