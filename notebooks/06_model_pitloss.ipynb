{
 "cells": [
  {"cell_type": "markdown", "metadata": {}, "source": ["# 06 - Pit Loss Model\n\n## Overview\nCompute circuit-average pit losses."]},
  {"cell_type": "code", "execution_count": null, "metadata": {}, "outputs": [], "source": ["import sys\nfrom pathlib import Path\nsys.path.insert(0, str(Path.cwd().parent / 'src'))\n\nimport pandas as pd\nfrom f1ts import config, io_flat, models_pitloss"]},
  {"cell_type": "markdown", "metadata": {}, "source": ["## Load"]},
  {"cell_type": "code", "execution_count": null, "metadata": {}, "outputs": [], "source": ["raw_dir = config.paths()['data_raw']\npitstops_files = list(raw_dir.glob('*_pitstops.csv'))\nall_pitstops = []\nfor pf in pitstops_files:\n    if pf.stat().st_size > 0:\n        all_pitstops.append(pd.read_csv(pf))\npitstops = pd.concat(all_pitstops, ignore_index=True) if all_pitstops else pd.DataFrame()\nsessions = io_flat.read_csv(raw_dir / 'sessions.csv')"]},
  {"cell_type": "markdown", "metadata": {}, "source": ["## Transform"]},
  {"cell_type": "code", "execution_count": null, "metadata": {}, "outputs": [], "source": ["if len(pitstops) > 0:\n    circuit_avg = models_pitloss.compute_circuit_averages(pitstops, sessions)\n    print(circuit_avg)\nelse:\n    print('No pit stop data available')"]},
  {"cell_type": "markdown", "metadata": {}, "source": ["## Save"]},
  {"cell_type": "code", "execution_count": null, "metadata": {}, "outputs": [], "source": ["print('✓ Pit loss analysis complete')"]},
  {"cell_type": "markdown", "metadata": {}, "source": ["## Repro Notes\n\n- Computed average pit loss by circuit\n- Used simple averaging baseline"]}
 ],
 "metadata": {"kernelspec": {"display_name": "Python 3", "language": "python", "name": "python3"}},
 "nbformat": 4,
 "nbformat_minor": 4
}
