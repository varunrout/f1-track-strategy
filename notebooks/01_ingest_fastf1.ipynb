{
 "cells": [
  {
   "cell_type": "markdown",
   "metadata": {},
   "source": [
    "# 01 - Ingest FastF1 Data\n",
    "\n",
    "## Overview\n",
    "Fetch F1 race data from FastF1 API and save to raw directory.\n",
    "\n",
    "## Inputs\n",
    "- Target races list\n",
    "\n",
    "## Outputs\n",
    "- data/raw/sessions.csv\n",
    "- data/raw/{session_key}_laps.parquet\n",
    "- data/raw/{session_key}_pitstops.csv\n",
    "- data/raw/{session_key}_weather.csv"
   ]
  },
  {
   "cell_type": "code",
   "execution_count": null,
   "metadata": {},
   "outputs": [],
   "source": [
    "import sys\n",
    "from pathlib import Path\n",
    "sys.path.insert(0, str(Path.cwd().parent / 'src'))\n",
    "\n",
    "import pandas as pd\n",
    "import numpy as np\n",
    "from f1ts import config, io_flat, ingest, validation\n",
    "\n",
    "config.ensure_dirs()\n",
    "print(f\"Working with project root: {config.PROJECT_ROOT}\")"
   ]
  },
  {
   "cell_type": "markdown",
   "metadata": {},
   "source": [
    "## Load: Define Target Races"
   ]
  },
  {
   "cell_type": "code",
   "execution_count": null,
   "metadata": {},
   "outputs": [],
   "source": [
    "# Define races to ingest\n",
    "# Format: (season, round_number)\n",
    "TARGET_RACES = [\n",
    "    (2023, 1),  # Bahrain\n",
    "    (2023, 2),  # Saudi Arabia\n",
    "    (2023, 3),  # Australia\n",
    "]\n",
    "\n",
    "print(f\"Target races: {len(TARGET_RACES)}\")\n",
    "for season, round_num in TARGET_RACES:\n",
    "    print(f\"  - {season} Round {round_num}\")"
   ]
  },
  {
   "cell_type": "markdown",
   "metadata": {},
   "source": [
    "## Transform: Fetch and Save Races"
   ]
  },
  {
   "cell_type": "code",
   "execution_count": null,
   "metadata": {},
   "outputs": [],
   "source": [
    "# Fetch and save each race\n",
    "ingest.fetch_and_save_races(TARGET_RACES, session_code='R')\n",
    "\n",
    "print(\"\\n✓ All races fetched and saved\")"
   ]
  },
  {
   "cell_type": "markdown",
   "metadata": {},
   "source": [
    "## Validate: Check Data Quality"
   ]
  },
  {
   "cell_type": "code",
   "execution_count": null,
   "metadata": {},
   "outputs": [],
   "source": [
    "# Load sessions file\n",
    "sessions_file = config.paths()['data_raw'] / 'sessions.csv'\n",
    "sessions = pd.read_csv(sessions_file)\n",
    "\n",
    "print(f\"\\nSessions loaded: {len(sessions)}\")\n",
    "print(sessions[['session_key', 'circuit_name', 'date']])\n",
    "\n",
    "# Validate each race\n",
    "for _, session in sessions.iterrows():\n",
    "    session_key = session['session_key']\n",
    "    \n",
    "    # Check laps file\n",
    "    laps_file = config.paths()['data_raw'] / f\"{session_key}_laps.parquet\"\n",
    "    if laps_file.exists():\n",
    "        laps = pd.read_parquet(laps_file)\n",
    "        \n",
    "        # Validate minimum lap count\n",
    "        n_laps = len(laps)\n",
    "        expected_min_laps = config.MIN_LAPS_PER_RACE\n",
    "        \n",
    "        status = \"✓\" if n_laps >= expected_min_laps else \"✗\"\n",
    "        print(f\"\\n{status} {session_key}: {n_laps} laps (min: {expected_min_laps})\")\n",
    "        \n",
    "        # Check uniqueness\n",
    "        validation.validate_uniqueness(laps, ['session_key', 'driver', 'lap'], session_key)\n",
    "        \n",
    "        # Check for required columns\n",
    "        required_cols = ['session_key', 'driver', 'lap', 'lap_time_ms', 'compound']\n",
    "        validation.validate_schema(laps, required_cols, name=session_key)\n",
    "    else:\n",
    "        print(f\"✗ {session_key}: Laps file not found\")\n",
    "\n",
    "print(\"\\n✓ Validation complete\")"
   ]
  },
  {
   "cell_type": "markdown",
   "metadata": {},
   "source": [
    "## Save: Already saved during ingestion"
   ]
  },
  {
   "cell_type": "markdown",
   "metadata": {},
   "source": [
    "## Repro Notes\n",
    "\n",
    "- Fetched races using FastF1 API\n",
    "- Data saved to data/raw/\n",
    "- All races meet minimum lap count threshold\n",
    "- Uniqueness and schema validations passed"
   ]
  }
 ],
 "metadata": {
  "kernelspec": {
   "display_name": "Python 3",
   "language": "python",
   "name": "python3"
  },
  "language_info": {
   "name": "python",
   "version": "3.11.0"
  }
 },
 "nbformat": 4,
 "nbformat_minor": 4
}
