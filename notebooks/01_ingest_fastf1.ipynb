{
 "cells": [
  {
   "cell_type": "markdown",
   "metadata": {},
   "source": [
    "# 01 - Ingest FastF1 Data\n",
    "\n",
    "## Overview\n",
    "Fetch F1 race data from FastF1 API and save to raw directory.\n",
    "\n",
    "## Inputs\n",
    "- Target races list\n",
    "\n",
    "## Outputs\n",
    "- data/raw/sessions.csv\n",
    "- data/raw/{session_key}_laps.parquet\n",
    "- data/raw/{session_key}_pitstops.csv\n",
    "- data/raw/{session_key}_weather.csv"
   ]
  },
  {
   "cell_type": "code",
   "execution_count": 1,
   "metadata": {},
   "outputs": [
    {
     "name": "stdout",
     "output_type": "stream",
     "text": [
      "Working with project root: /workspaces/f1-track-strategy\n"
     ]
    }
   ],
   "source": [
    "import sys\n",
    "from pathlib import Path\n",
    "sys.path.insert(0, str(Path.cwd().parent / 'src'))\n",
    "\n",
    "import pandas as pd\n",
    "import numpy as np\n",
    "from f1ts import config, io_flat, ingest, validation\n",
    "\n",
    "config.ensure_dirs()\n",
    "print(f\"Working with project root: {config.PROJECT_ROOT}\")"
   ]
  },
  {
   "cell_type": "markdown",
   "metadata": {},
   "source": [
    "## Load: Define Target Races"
   ]
  },
  {
   "cell_type": "code",
   "execution_count": 2,
   "metadata": {},
   "outputs": [
    {
     "name": "stdout",
     "output_type": "stream",
     "text": [
      "Target races: 10\n",
      "  - 2023 Round 1\n",
      "  - 2023 Round 2\n",
      "  - 2023 Round 3\n",
      "  - 2023 Round 4\n",
      "  - 2023 Round 5\n",
      "  - 2023 Round 6\n",
      "  - 2023 Round 7\n",
      "  - 2023 Round 8\n",
      "  - 2023 Round 9\n",
      "  - 2023 Round 10\n"
     ]
    }
   ],
   "source": [
    "# Define races to ingest\n",
    "# Format: (season, round_number)\n",
    "# Expanded to include rounds 1-10 for better model performance\n",
    "TARGET_RACES = [\n",
    "    (2023, 1),   # Bahrain\n",
    "    (2023, 2),   # Saudi Arabia\n",
    "    (2023, 3),   # Australia\n",
    "    (2023, 4),   # Azerbaijan\n",
    "    (2023, 5),   # Miami\n",
    "    (2023, 6),   # Monaco\n",
    "    (2023, 7),   # Spain\n",
    "    (2023, 8),   # Canada\n",
    "    (2023, 9),   # Austria\n",
    "    (2023, 10),  # Britain\n",
    "]\n",
    "\n",
    "print(f\"Target races: {len(TARGET_RACES)}\")\n",
    "for season, round_num in TARGET_RACES:\n",
    "    print(f\"  - {season} Round {round_num}\")"
   ]
  },
  {
   "cell_type": "markdown",
   "metadata": {},
   "source": [
    "## Transform: Fetch and Save Races"
   ]
  },
  {
   "cell_type": "code",
   "execution_count": 3,
   "metadata": {},
   "outputs": [
    {
     "name": "stderr",
     "output_type": "stream",
     "text": [
      "Fetching races:   0%|          | 0/10 [00:00<?, ?it/s]"
     ]
    },
    {
     "name": "stdout",
     "output_type": "stream",
     "text": [
      "Fetching 2023_1_R...\n"
     ]
    },
    {
     "name": "stderr",
     "output_type": "stream",
     "text": [
      "core           INFO \tLoading data for Bahrain Grand Prix - Race [v3.2.0]\n",
      "req            INFO \tUsing cached data for session_info\n",
      "req            INFO \tUsing cached data for driver_info\n",
      "logger      WARNING \tFailed to load result data from Ergast!\n",
      "core        WARNING \tNo result data for this session available on Ergast! (This is expected for recent sessions)\n",
      "req            INFO \tUsing cached data for session_status_data\n",
      "req            INFO \tUsing cached data for lap_count\n",
      "req            INFO \tUsing cached data for track_status_data\n",
      "req            INFO \tUsing cached data for _extended_timing_data\n",
      "req            INFO \tUsing cached data for timing_app_data\n",
      "core           INFO \tProcessing timing data...\n",
      "logger      WARNING \tFailed to add first lap time from Ergast!\n",
      "req            INFO \tUsing cached data for car_data\n",
      "req            INFO \tUsing cached data for position_data\n",
      "req            INFO \tUsing cached data for weather_data\n",
      "req            INFO \tUsing cached data for race_control_messages\n",
      "core           INFO \tFinished loading data for 20 drivers: ['1', '11', '16', '55', '14', '63', '44', '18', '31', '27', '4', '77', '24', '22', '23', '2', '20', '81', '21', '10']\n",
      "Fetching races:  10%|█         | 1/10 [00:05<00:52,  5.86s/it]core           INFO \tLoading data for Saudi Arabian Grand Prix - Race [v3.2.0]\n",
      "req            INFO \tUsing cached data for session_info\n",
      "req            INFO \tUsing cached data for driver_info\n",
      "logger      WARNING \tFailed to load result data from Ergast!\n",
      "core        WARNING \tNo result data for this session available on Ergast! (This is expected for recent sessions)\n",
      "req            INFO \tUsing cached data for session_status_data\n",
      "req            INFO \tUsing cached data for lap_count\n",
      "req            INFO \tUsing cached data for track_status_data\n",
      "req            INFO \tUsing cached data for _extended_timing_data\n",
      "req            INFO \tUsing cached data for timing_app_data\n",
      "core           INFO \tProcessing timing data...\n"
     ]
    },
    {
     "name": "stdout",
     "output_type": "stream",
     "text": [
      "✓ Saved session info to sessions.csv\n",
      "✓ Saved 1,035 laps to 2023_1_R_laps.parquet\n",
      "✓ Saved 161 weather records to 2023_1_R_weather.csv\n",
      "✓ Completed 2023_1_R\n",
      "\n",
      "Fetching 2023_2_R...\n"
     ]
    },
    {
     "name": "stderr",
     "output_type": "stream",
     "text": [
      "logger      WARNING \tFailed to add first lap time from Ergast!\n",
      "req            INFO \tUsing cached data for car_data\n",
      "req            INFO \tUsing cached data for position_data\n",
      "req            INFO \tUsing cached data for weather_data\n",
      "req            INFO \tUsing cached data for race_control_messages\n",
      "core           INFO \tFinished loading data for 20 drivers: ['11', '14', '63', '55', '18', '31', '44', '81', '10', '27', '24', '16', '20', '77', '1', '22', '23', '21', '4', '2']\n",
      "Fetching races:  20%|██        | 2/10 [00:08<00:32,  4.02s/it]core           INFO \tLoading data for Australian Grand Prix - Race [v3.2.0]\n",
      "req            INFO \tUsing cached data for session_info\n",
      "req            INFO \tUsing cached data for driver_info\n",
      "logger      WARNING \tFailed to load result data from Ergast!\n",
      "core        WARNING \tNo result data for this session available on Ergast! (This is expected for recent sessions)\n",
      "req            INFO \tUsing cached data for session_status_data\n",
      "req            INFO \tUsing cached data for lap_count\n",
      "req            INFO \tUsing cached data for track_status_data\n",
      "req            INFO \tUsing cached data for _extended_timing_data\n",
      "req            INFO \tUsing cached data for timing_app_data\n",
      "core           INFO \tProcessing timing data...\n"
     ]
    },
    {
     "name": "stdout",
     "output_type": "stream",
     "text": [
      "✓ Saved session info to sessions.csv\n",
      "✓ Saved 904 laps to 2023_2_R_laps.parquet\n",
      "✓ Saved 148 weather records to 2023_2_R_weather.csv\n",
      "✓ Completed 2023_2_R\n",
      "\n",
      "Fetching 2023_3_R...\n"
     ]
    },
    {
     "name": "stderr",
     "output_type": "stream",
     "text": [
      "logger      WARNING \tFailed to add first lap time from Ergast!\n",
      "req            INFO \tUsing cached data for car_data\n",
      "req            INFO \tUsing cached data for position_data\n",
      "req            INFO \tUsing cached data for weather_data\n",
      "req            INFO \tUsing cached data for race_control_messages\n",
      "core           INFO \tFinished loading data for 20 drivers: ['1', '63', '44', '14', '55', '18', '16', '23', '10', '27', '31', '22', '4', '20', '21', '81', '24', '2', '77', '11']\n",
      "Fetching races:  30%|███       | 3/10 [00:12<00:26,  3.85s/it]core           INFO \tLoading data for Azerbaijan Grand Prix - Race [v3.2.0]\n",
      "req            INFO \tUsing cached data for session_info\n",
      "req            INFO \tUsing cached data for driver_info\n",
      "logger      WARNING \tFailed to load result data from Ergast!\n",
      "core        WARNING \tNo result data for this session available on Ergast! (This is expected for recent sessions)\n",
      "req            INFO \tUsing cached data for session_status_data\n",
      "req            INFO \tUsing cached data for lap_count\n",
      "req            INFO \tUsing cached data for track_status_data\n",
      "req            INFO \tUsing cached data for _extended_timing_data\n",
      "req            INFO \tUsing cached data for timing_app_data\n",
      "core           INFO \tProcessing timing data...\n"
     ]
    },
    {
     "name": "stdout",
     "output_type": "stream",
     "text": [
      "✓ Saved session info to sessions.csv\n",
      "✓ Saved 882 laps to 2023_3_R_laps.parquet\n",
      "✓ Saved 14 pit stops to 2023_3_R_pitstops.csv\n",
      "✓ Saved 222 weather records to 2023_3_R_weather.csv\n",
      "✓ Completed 2023_3_R\n",
      "\n",
      "Fetching 2023_4_R...\n"
     ]
    },
    {
     "name": "stderr",
     "output_type": "stream",
     "text": [
      "logger      WARNING \tFailed to add first lap time from Ergast!\n",
      "req            INFO \tUsing cached data for car_data\n",
      "req            INFO \tUsing cached data for position_data\n",
      "req            INFO \tUsing cached data for weather_data\n",
      "req            INFO \tUsing cached data for race_control_messages\n",
      "core           INFO \tFinished loading data for 20 drivers: ['16', '1', '11', '55', '44', '14', '4', '22', '18', '81', '63', '23', '77', '2', '24', '20', '10', '21', '31', '27']\n",
      "Fetching races:  40%|████      | 4/10 [00:14<00:20,  3.40s/it]core           INFO \tLoading data for Miami Grand Prix - Race [v3.2.0]\n",
      "req            INFO \tUsing cached data for session_info\n",
      "req            INFO \tUsing cached data for driver_info\n",
      "logger      WARNING \tFailed to load result data from Ergast!\n",
      "core        WARNING \tNo result data for this session available on Ergast! (This is expected for recent sessions)\n",
      "req            INFO \tUsing cached data for session_status_data\n",
      "req            INFO \tUsing cached data for lap_count\n",
      "req            INFO \tUsing cached data for track_status_data\n",
      "req            INFO \tUsing cached data for _extended_timing_data\n",
      "req            INFO \tUsing cached data for timing_app_data\n",
      "core           INFO \tProcessing timing data...\n"
     ]
    },
    {
     "name": "stdout",
     "output_type": "stream",
     "text": [
      "✓ Saved session info to sessions.csv\n",
      "✓ Saved 910 laps to 2023_4_R_laps.parquet\n",
      "✓ Saved 160 weather records to 2023_4_R_weather.csv\n",
      "✓ Completed 2023_4_R\n",
      "\n",
      "Fetching 2023_5_R...\n"
     ]
    },
    {
     "name": "stderr",
     "output_type": "stream",
     "text": [
      "logger      WARNING \tFailed to add first lap time from Ergast!\n",
      "req            INFO \tUsing cached data for car_data\n",
      "req            INFO \tUsing cached data for position_data\n",
      "req            INFO \tUsing cached data for weather_data\n",
      "req            INFO \tUsing cached data for race_control_messages\n",
      "core           INFO \tFinished loading data for 20 drivers: ['11', '14', '55', '20', '10', '63', '16', '31', '1', '77', '23', '27', '44', '24', '21', '4', '22', '18', '81', '2']\n",
      "Fetching races:  50%|█████     | 5/10 [00:17<00:16,  3.20s/it]core           INFO \tLoading data for Monaco Grand Prix - Race [v3.2.0]\n",
      "req            INFO \tUsing cached data for session_info\n",
      "req            INFO \tUsing cached data for driver_info\n",
      "logger      WARNING \tFailed to load result data from Ergast!\n",
      "core        WARNING \tNo result data for this session available on Ergast! (This is expected for recent sessions)\n",
      "req            INFO \tUsing cached data for session_status_data\n",
      "req            INFO \tUsing cached data for lap_count\n",
      "req            INFO \tUsing cached data for track_status_data\n",
      "req            INFO \tUsing cached data for _extended_timing_data\n",
      "req            INFO \tUsing cached data for timing_app_data\n",
      "core           INFO \tProcessing timing data...\n"
     ]
    },
    {
     "name": "stdout",
     "output_type": "stream",
     "text": [
      "✓ Saved session info to sessions.csv\n",
      "✓ Saved 1,118 laps to 2023_5_R_laps.parquet\n",
      "✓ Saved 155 weather records to 2023_5_R_weather.csv\n",
      "✓ Completed 2023_5_R\n",
      "\n",
      "Fetching 2023_6_R...\n"
     ]
    },
    {
     "name": "stderr",
     "output_type": "stream",
     "text": [
      "logger      WARNING \tFailed to add first lap time from Ergast!\n",
      "req            INFO \tUsing cached data for car_data\n",
      "req            INFO \tUsing cached data for position_data\n",
      "req            INFO \tUsing cached data for weather_data\n",
      "req            INFO \tUsing cached data for race_control_messages\n",
      "core           INFO \tFinished loading data for 20 drivers: ['1', '14', '31', '55', '44', '16', '10', '63', '22', '4', '81', '21', '23', '18', '77', '2', '20', '27', '24', '11']\n",
      "Fetching races:  60%|██████    | 6/10 [00:21<00:13,  3.34s/it]core           INFO \tLoading data for Spanish Grand Prix - Race [v3.2.0]\n",
      "req            INFO \tUsing cached data for session_info\n",
      "req            INFO \tUsing cached data for driver_info\n",
      "logger      WARNING \tFailed to load result data from Ergast!\n",
      "core        WARNING \tNo result data for this session available on Ergast! (This is expected for recent sessions)\n",
      "req            INFO \tUsing cached data for session_status_data\n",
      "req            INFO \tUsing cached data for lap_count\n",
      "req            INFO \tUsing cached data for track_status_data\n",
      "req            INFO \tUsing cached data for _extended_timing_data\n",
      "req            INFO \tUsing cached data for timing_app_data\n",
      "core           INFO \tProcessing timing data...\n"
     ]
    },
    {
     "name": "stdout",
     "output_type": "stream",
     "text": [
      "✓ Saved session info to sessions.csv\n",
      "✓ Saved 1,492 laps to 2023_6_R_laps.parquet\n",
      "✓ Saved 1 pit stops to 2023_6_R_pitstops.csv\n",
      "✓ Saved 176 weather records to 2023_6_R_weather.csv\n",
      "✓ Completed 2023_6_R\n",
      "\n",
      "Fetching 2023_7_R...\n"
     ]
    },
    {
     "name": "stderr",
     "output_type": "stream",
     "text": [
      "logger      WARNING \tFailed to add first lap time from Ergast!\n",
      "req            INFO \tUsing cached data for car_data\n",
      "req            INFO \tUsing cached data for position_data\n",
      "req            INFO \tUsing cached data for weather_data\n",
      "req            INFO \tUsing cached data for race_control_messages\n",
      "core           INFO \tFinished loading data for 20 drivers: ['1', '55', '4', '44', '18', '31', '27', '14', '81', '10', '11', '63', '24', '21', '22', '77', '20', '23', '16', '2']\n",
      "Fetching races:  70%|███████   | 7/10 [00:24<00:09,  3.18s/it]core           INFO \tLoading data for Canadian Grand Prix - Race [v3.2.0]\n",
      "req            INFO \tUsing cached data for session_info\n",
      "req            INFO \tUsing cached data for driver_info\n",
      "logger      WARNING \tFailed to load result data from Ergast!\n",
      "core        WARNING \tNo result data for this session available on Ergast! (This is expected for recent sessions)\n",
      "req            INFO \tUsing cached data for session_status_data\n",
      "req            INFO \tUsing cached data for lap_count\n",
      "req            INFO \tUsing cached data for track_status_data\n",
      "req            INFO \tUsing cached data for _extended_timing_data\n",
      "req            INFO \tUsing cached data for timing_app_data\n",
      "core           INFO \tProcessing timing data...\n"
     ]
    },
    {
     "name": "stdout",
     "output_type": "stream",
     "text": [
      "✓ Saved session info to sessions.csv\n",
      "✓ Saved 1,292 laps to 2023_7_R_laps.parquet\n",
      "✓ Saved 154 weather records to 2023_7_R_weather.csv\n",
      "✓ Completed 2023_7_R\n",
      "\n",
      "Fetching 2023_8_R...\n"
     ]
    },
    {
     "name": "stderr",
     "output_type": "stream",
     "text": [
      "logger      WARNING \tFailed to add first lap time from Ergast!\n",
      "req            INFO \tUsing cached data for car_data\n",
      "req            INFO \tUsing cached data for position_data\n",
      "req            INFO \tUsing cached data for weather_data\n",
      "req            INFO \tUsing cached data for race_control_messages\n",
      "core           INFO \tFinished loading data for 20 drivers: ['1', '14', '44', '63', '27', '31', '4', '81', '23', '16', '55', '11', '20', '77', '10', '18', '21', '2', '22', '24']\n",
      "Fetching races:  80%|████████  | 8/10 [00:27<00:06,  3.07s/it]core           INFO \tLoading data for Austrian Grand Prix - Race [v3.2.0]\n",
      "req            INFO \tUsing cached data for session_info\n",
      "req            INFO \tUsing cached data for driver_info\n",
      "logger      WARNING \tFailed to load result data from Ergast!\n",
      "core        WARNING \tNo result data for this session available on Ergast! (This is expected for recent sessions)\n",
      "req            INFO \tUsing cached data for session_status_data\n",
      "req            INFO \tUsing cached data for lap_count\n",
      "req            INFO \tUsing cached data for track_status_data\n",
      "req            INFO \tUsing cached data for _extended_timing_data\n",
      "req            INFO \tUsing cached data for timing_app_data\n",
      "core           INFO \tProcessing timing data...\n"
     ]
    },
    {
     "name": "stdout",
     "output_type": "stream",
     "text": [
      "✓ Saved session info to sessions.csv\n",
      "✓ Saved 1,294 laps to 2023_8_R_laps.parquet\n",
      "✓ Saved 162 weather records to 2023_8_R_weather.csv\n",
      "✓ Completed 2023_8_R\n",
      "\n",
      "Fetching 2023_9_R...\n"
     ]
    },
    {
     "name": "stderr",
     "output_type": "stream",
     "text": [
      "logger      WARNING \tFailed to add first lap time from Ergast!\n",
      "req            INFO \tUsing cached data for car_data\n",
      "req            INFO \tUsing cached data for position_data\n",
      "req            INFO \tUsing cached data for weather_data\n",
      "req            INFO \tUsing cached data for race_control_messages\n",
      "core           INFO \tFinished loading data for 20 drivers: ['1', '16', '55', '4', '44', '18', '14', '27', '10', '23', '63', '31', '81', '77', '11', '22', '24', '2', '20', '21']\n",
      "Fetching races:  90%|█████████ | 9/10 [00:30<00:03,  3.10s/it]core           INFO \tLoading data for British Grand Prix - Race [v3.2.0]\n",
      "req            INFO \tUsing cached data for session_info\n",
      "req            INFO \tUsing cached data for driver_info\n",
      "logger      WARNING \tFailed to load result data from Ergast!\n",
      "core        WARNING \tNo result data for this session available on Ergast! (This is expected for recent sessions)\n",
      "req            INFO \tUsing cached data for session_status_data\n",
      "req            INFO \tUsing cached data for lap_count\n",
      "req            INFO \tUsing cached data for track_status_data\n",
      "req            INFO \tUsing cached data for _extended_timing_data\n",
      "req            INFO \tUsing cached data for timing_app_data\n",
      "core           INFO \tProcessing timing data...\n"
     ]
    },
    {
     "name": "stdout",
     "output_type": "stream",
     "text": [
      "✓ Saved session info to sessions.csv\n",
      "✓ Saved 1,332 laps to 2023_9_R_laps.parquet\n",
      "✓ Saved 3 pit stops to 2023_9_R_pitstops.csv\n",
      "✓ Saved 153 weather records to 2023_9_R_weather.csv\n",
      "✓ Completed 2023_9_R\n",
      "\n",
      "Fetching 2023_10_R...\n"
     ]
    },
    {
     "name": "stderr",
     "output_type": "stream",
     "text": [
      "logger      WARNING \tFailed to add first lap time from Ergast!\n",
      "req            INFO \tUsing cached data for car_data\n",
      "req            INFO \tUsing cached data for position_data\n",
      "req            INFO \tUsing cached data for weather_data\n",
      "req            INFO \tUsing cached data for race_control_messages\n",
      "core           INFO \tFinished loading data for 20 drivers: ['1', '4', '81', '16', '55', '63', '44', '23', '14', '10', '27', '18', '31', '2', '11', '22', '24', '21', '20', '77']\n",
      "Fetching races: 100%|██████████| 10/10 [00:33<00:00,  3.33s/it]"
     ]
    },
    {
     "name": "stdout",
     "output_type": "stream",
     "text": [
      "✓ Saved session info to sessions.csv\n",
      "✓ Saved 946 laps to 2023_10_R_laps.parquet\n",
      "✓ Saved 151 weather records to 2023_10_R_weather.csv\n",
      "✓ Completed 2023_10_R\n",
      "\n",
      "\n",
      "✓ All races fetched and saved\n"
     ]
    },
    {
     "name": "stderr",
     "output_type": "stream",
     "text": [
      "\n"
     ]
    }
   ],
   "source": [
    "# Fetch and save each race\n",
    "ingest.fetch_and_save_races(TARGET_RACES, session_code='R')\n",
    "\n",
    "print(\"\\n✓ All races fetched and saved\")"
   ]
  },
  {
   "cell_type": "markdown",
   "metadata": {},
   "source": [
    "## Validate: Check Data Quality"
   ]
  },
  {
   "cell_type": "code",
   "execution_count": 4,
   "metadata": {},
   "outputs": [
    {
     "name": "stdout",
     "output_type": "stream",
     "text": [
      "\n",
      "Sessions loaded: 10\n",
      "  session_key              circuit_name                 date\n",
      "0    2023_1_R        Bahrain Grand Prix  2023-03-05 00:00:00\n",
      "1    2023_2_R  Saudi Arabian Grand Prix  2023-03-19 00:00:00\n",
      "2    2023_3_R     Australian Grand Prix  2023-04-02 00:00:00\n",
      "3    2023_4_R     Azerbaijan Grand Prix  2023-04-30 00:00:00\n",
      "4    2023_5_R          Miami Grand Prix  2023-05-07 00:00:00\n",
      "5    2023_6_R         Monaco Grand Prix  2023-05-28 00:00:00\n",
      "6    2023_7_R        Spanish Grand Prix  2023-06-04 00:00:00\n",
      "7    2023_8_R       Canadian Grand Prix  2023-06-18 00:00:00\n",
      "8    2023_9_R       Austrian Grand Prix  2023-07-02 00:00:00\n",
      "9   2023_10_R        British Grand Prix  2023-07-09 00:00:00\n",
      "\n",
      "✓ 2023_1_R: 1035 laps (min: 50)\n",
      "✓ Uniqueness validation passed for 2023_1_R on ['session_key', 'driver', 'lap']\n",
      "✓ Schema validation passed for 2023_1_R\n",
      "\n",
      "✓ 2023_2_R: 904 laps (min: 50)\n",
      "✓ Uniqueness validation passed for 2023_2_R on ['session_key', 'driver', 'lap']\n",
      "✓ Schema validation passed for 2023_2_R\n",
      "\n",
      "✓ 2023_3_R: 882 laps (min: 50)\n",
      "✓ Uniqueness validation passed for 2023_3_R on ['session_key', 'driver', 'lap']\n",
      "✓ Schema validation passed for 2023_3_R\n",
      "\n",
      "✓ 2023_4_R: 910 laps (min: 50)\n",
      "✓ Uniqueness validation passed for 2023_4_R on ['session_key', 'driver', 'lap']\n",
      "✓ Schema validation passed for 2023_4_R\n",
      "\n",
      "✓ 2023_5_R: 1118 laps (min: 50)\n",
      "✓ Uniqueness validation passed for 2023_5_R on ['session_key', 'driver', 'lap']\n",
      "✓ Schema validation passed for 2023_5_R\n",
      "\n",
      "✓ 2023_6_R: 1492 laps (min: 50)\n",
      "✓ Uniqueness validation passed for 2023_6_R on ['session_key', 'driver', 'lap']\n",
      "✓ Schema validation passed for 2023_6_R\n",
      "\n",
      "✓ 2023_7_R: 1292 laps (min: 50)\n",
      "✓ Uniqueness validation passed for 2023_7_R on ['session_key', 'driver', 'lap']\n",
      "✓ Schema validation passed for 2023_7_R\n",
      "\n",
      "✓ 2023_8_R: 1294 laps (min: 50)\n",
      "✓ Uniqueness validation passed for 2023_8_R on ['session_key', 'driver', 'lap']\n",
      "✓ Schema validation passed for 2023_8_R\n",
      "\n",
      "✓ 2023_9_R: 1332 laps (min: 50)\n",
      "✓ Uniqueness validation passed for 2023_9_R on ['session_key', 'driver', 'lap']\n",
      "✓ Schema validation passed for 2023_9_R\n",
      "\n",
      "✓ 2023_10_R: 946 laps (min: 50)\n",
      "✓ Uniqueness validation passed for 2023_10_R on ['session_key', 'driver', 'lap']\n",
      "✓ Schema validation passed for 2023_10_R\n",
      "\n",
      "✓ Validation complete\n"
     ]
    }
   ],
   "source": [
    "# Load sessions file\n",
    "sessions_file = config.paths()['data_raw'] / 'sessions.csv'\n",
    "sessions = pd.read_csv(sessions_file)\n",
    "\n",
    "print(f\"\\nSessions loaded: {len(sessions)}\")\n",
    "print(sessions[['session_key', 'circuit_name', 'date']])\n",
    "\n",
    "# Validate each race\n",
    "for _, session in sessions.iterrows():\n",
    "    session_key = session['session_key']\n",
    "    \n",
    "    # Check laps file\n",
    "    laps_file = config.paths()['data_raw'] / f\"{session_key}_laps.parquet\"\n",
    "    if laps_file.exists():\n",
    "        laps = pd.read_parquet(laps_file)\n",
    "        \n",
    "        # Validate minimum lap count\n",
    "        n_laps = len(laps)\n",
    "        expected_min_laps = config.MIN_LAPS_PER_RACE\n",
    "        \n",
    "        status = \"✓\" if n_laps >= expected_min_laps else \"✗\"\n",
    "        print(f\"\\n{status} {session_key}: {n_laps} laps (min: {expected_min_laps})\")\n",
    "        \n",
    "        # Check uniqueness\n",
    "        validation.validate_uniqueness(laps, ['session_key', 'driver', 'lap'], session_key)\n",
    "        \n",
    "        # Check for required columns\n",
    "        required_cols = ['session_key', 'driver', 'lap', 'lap_time_ms', 'compound']\n",
    "        validation.validate_schema(laps, required_cols, name=session_key)\n",
    "    else:\n",
    "        print(f\"✗ {session_key}: Laps file not found\")\n",
    "\n",
    "print(\"\\n✓ Validation complete\")"
   ]
  },
  {
   "cell_type": "markdown",
   "metadata": {},
   "source": [
    "## Save: Already saved during ingestion"
   ]
  },
  {
   "cell_type": "markdown",
   "metadata": {},
   "source": [
    "## Repro Notes\n",
    "\n",
    "- Fetched races using FastF1 API\n",
    "- Data saved to data/raw/\n",
    "- All races meet minimum lap count threshold\n",
    "- Uniqueness and schema validations passed"
   ]
  },
  {
   "cell_type": "markdown",
   "metadata": {},
   "source": [
    "# New: Telemetry Summaries Ingestion (per session)\n",
    "\n",
    "This section fetches and saves per-lap telemetry summaries for each ingested race so downstream feature engineering can join telemetry features (`avg_throttle`, `avg_brake`, `avg_speed`, `max_speed`, `corner_time_frac`, `gear_shift_rate`, `drs_usage_ratio`)."
   ]
  },
  {
   "cell_type": "code",
   "execution_count": null,
   "metadata": {},
   "outputs": [],
   "source": [
    "# Fetch and persist telemetry summaries for each (season, round)\n",
    "from f1ts import ingest, config, io_flat\n",
    "from pathlib import Path\n",
    "\n",
    "paths = config.paths()\n",
    "telemetry_dir = paths['data_raw'] / 'telemetry'\n",
    "telemetry_dir.mkdir(parents=True, exist_ok=True)\n",
    "\n",
    "def save_telemetry(season: int, round_num: int, session_code: str = 'R'):\n",
    "    df = ingest.fetch_telemetry_summary(season, round_num, session_code=session_code)\n",
    "    session_key = config.get_session_key(season, round_num, session_code)\n",
    "    outp = telemetry_dir / f\"{session_key}_telemetry_summary.parquet\"\n",
    "    io_flat.write_parquet(df, outp)\n",
    "    print(f\"✓ Saved telemetry summary: {outp}\")\n",
    "\n",
    "# Example: iterate over the same races configured above\n",
    "for s in seasons:\n",
    "    for r in rounds:\n",
    "        try:\n",
    "            save_telemetry(int(s), int(r), session_code='R')\n",
    "        except Exception as e:\n",
    "            print(f\"Warning: telemetry fetch failed for {s}_{r}_R: {e}\")"
   ]
  }
 ],
 "metadata": {
  "kernelspec": {
   "display_name": ".venv",
   "language": "python",
   "name": "python3"
  },
  "language_info": {
   "codemirror_mode": {
    "name": "ipython",
    "version": 3
   },
   "file_extension": ".py",
   "mimetype": "text/x-python",
   "name": "python",
   "nbconvert_exporter": "python",
   "pygments_lexer": "ipython3",
   "version": "3.12.1"
  }
 },
 "nbformat": 4,
 "nbformat_minor": 4
}
