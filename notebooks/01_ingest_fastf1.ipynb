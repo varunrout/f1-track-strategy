{
 "cells": [
  {
   "cell_type": "markdown",
   "metadata": {},
   "source": [
    "# 01 - Ingest FastF1 Data\n",
    "\n",
    "## Overview\n",
    "Fetch F1 race data from FastF1 API and save to raw directory.\n",
    "\n",
    "## Inputs\n",
    "- Target races list\n",
    "\n",
    "## Outputs\n",
    "- data/raw/sessions.csv\n",
    "- data/raw/{session_key}_laps.parquet\n",
    "- data/raw/{session_key}_pitstops.csv\n",
    "- data/raw/{session_key}_weather.csv"
   ]
  },
  {
   "cell_type": "code",
   "execution_count": 5,
   "metadata": {},
   "outputs": [
    {
     "name": "stdout",
     "output_type": "stream",
     "text": [
      "Working with project root: /workspaces/f1-track-strategy\n"
     ]
    }
   ],
   "source": [
    "import sys\n",
    "from pathlib import Path\n",
    "sys.path.insert(0, str(Path.cwd().parent / 'src'))\n",
    "\n",
    "import pandas as pd\n",
    "import numpy as np\n",
    "from f1ts import config, io_flat, ingest, validation\n",
    "\n",
    "config.ensure_dirs()\n",
    "print(f\"Working with project root: {config.PROJECT_ROOT}\")"
   ]
  },
  {
   "cell_type": "markdown",
   "metadata": {},
   "source": [
    "## Load: Define Target Races"
   ]
  },
  {
   "cell_type": "code",
   "execution_count": 6,
   "metadata": {},
   "outputs": [
    {
     "name": "stdout",
     "output_type": "stream",
     "text": [
      "Target races: 3\n",
      "  - 2023 Round 1\n",
      "  - 2023 Round 2\n",
      "  - 2023 Round 3\n"
     ]
    }
   ],
   "source": [
    "# Define races to ingest\n",
    "# Format: (season, round_number)\n",
    "TARGET_RACES = [\n",
    "    (2023, 1),  # Bahrain\n",
    "    (2023, 2),  # Saudi Arabia\n",
    "    (2023, 3),  # Australia\n",
    "]\n",
    "\n",
    "print(f\"Target races: {len(TARGET_RACES)}\")\n",
    "for season, round_num in TARGET_RACES:\n",
    "    print(f\"  - {season} Round {round_num}\")"
   ]
  },
  {
   "cell_type": "markdown",
   "metadata": {},
   "source": [
    "## Transform: Fetch and Save Races"
   ]
  },
  {
   "cell_type": "code",
   "execution_count": 7,
   "metadata": {},
   "outputs": [
    {
     "name": "stderr",
     "output_type": "stream",
     "text": [
      "Fetching races:   0%|          | 0/3 [00:00<?, ?it/s]"
     ]
    },
    {
     "name": "stdout",
     "output_type": "stream",
     "text": [
      "Fetching 2023_1_R...\n"
     ]
    },
    {
     "name": "stderr",
     "output_type": "stream",
     "text": [
      "core           INFO \tLoading data for Bahrain Grand Prix - Race [v3.2.0]\n",
      "req            INFO \tUsing cached data for session_info\n",
      "req            INFO \tUsing cached data for driver_info\n",
      "logger      WARNING \tFailed to load result data from Ergast!\n",
      "core        WARNING \tNo result data for this session available on Ergast! (This is expected for recent sessions)\n",
      "req            INFO \tUsing cached data for session_status_data\n",
      "req            INFO \tUsing cached data for lap_count\n",
      "req            INFO \tUsing cached data for track_status_data\n",
      "req            INFO \tUsing cached data for _extended_timing_data\n",
      "req            INFO \tUsing cached data for timing_app_data\n",
      "core           INFO \tProcessing timing data...\n",
      "logger      WARNING \tFailed to add first lap time from Ergast!\n",
      "req            INFO \tUsing cached data for car_data\n",
      "req            INFO \tUsing cached data for position_data\n",
      "req            INFO \tUsing cached data for weather_data\n",
      "req            INFO \tUsing cached data for race_control_messages\n",
      "core           INFO \tFinished loading data for 20 drivers: ['1', '11', '16', '55', '14', '63', '44', '18', '31', '27', '4', '77', '24', '22', '23', '2', '20', '81', '21', '10']\n",
      "Fetching races:  33%|███▎      | 1/3 [00:03<00:06,  3.16s/it]core           INFO \tLoading data for Saudi Arabian Grand Prix - Race [v3.2.0]\n",
      "req            INFO \tUsing cached data for session_info\n",
      "req            INFO \tUsing cached data for driver_info\n",
      "logger      WARNING \tFailed to load result data from Ergast!\n",
      "core        WARNING \tNo result data for this session available on Ergast! (This is expected for recent sessions)\n",
      "req            INFO \tUsing cached data for session_status_data\n",
      "req            INFO \tUsing cached data for lap_count\n",
      "req            INFO \tUsing cached data for track_status_data\n",
      "req            INFO \tUsing cached data for _extended_timing_data\n",
      "req            INFO \tUsing cached data for timing_app_data\n",
      "core           INFO \tProcessing timing data...\n"
     ]
    },
    {
     "name": "stdout",
     "output_type": "stream",
     "text": [
      "✓ Saved session info to sessions.csv\n",
      "✓ Saved 1,035 laps to 2023_1_R_laps.parquet\n",
      "✓ Saved 161 weather records to 2023_1_R_weather.csv\n",
      "✓ Completed 2023_1_R\n",
      "\n",
      "Fetching 2023_2_R...\n"
     ]
    },
    {
     "name": "stderr",
     "output_type": "stream",
     "text": [
      "logger      WARNING \tFailed to add first lap time from Ergast!\n",
      "req            INFO \tUsing cached data for car_data\n",
      "req            INFO \tUsing cached data for position_data\n",
      "req            INFO \tUsing cached data for weather_data\n",
      "req            INFO \tUsing cached data for race_control_messages\n",
      "core           INFO \tFinished loading data for 20 drivers: ['11', '14', '63', '55', '18', '31', '44', '81', '10', '27', '24', '16', '20', '77', '1', '22', '23', '21', '4', '2']\n",
      "Fetching races:  67%|██████▋   | 2/3 [00:05<00:02,  2.86s/it]core           INFO \tLoading data for Australian Grand Prix - Race [v3.2.0]\n",
      "req            INFO \tUsing cached data for session_info\n",
      "req            INFO \tUsing cached data for driver_info\n",
      "logger      WARNING \tFailed to load result data from Ergast!\n",
      "core        WARNING \tNo result data for this session available on Ergast! (This is expected for recent sessions)\n",
      "req            INFO \tUsing cached data for session_status_data\n",
      "req            INFO \tUsing cached data for lap_count\n",
      "req            INFO \tUsing cached data for track_status_data\n",
      "req            INFO \tUsing cached data for _extended_timing_data\n",
      "req            INFO \tUsing cached data for timing_app_data\n",
      "core           INFO \tProcessing timing data...\n"
     ]
    },
    {
     "name": "stdout",
     "output_type": "stream",
     "text": [
      "✓ Saved session info to sessions.csv\n",
      "✓ Saved 904 laps to 2023_2_R_laps.parquet\n",
      "✓ Saved 148 weather records to 2023_2_R_weather.csv\n",
      "✓ Completed 2023_2_R\n",
      "\n",
      "Fetching 2023_3_R...\n"
     ]
    },
    {
     "name": "stderr",
     "output_type": "stream",
     "text": [
      "logger      WARNING \tFailed to add first lap time from Ergast!\n",
      "req            INFO \tUsing cached data for car_data\n",
      "req            INFO \tUsing cached data for position_data\n",
      "req            INFO \tUsing cached data for weather_data\n",
      "req            INFO \tUsing cached data for race_control_messages\n",
      "core           INFO \tFinished loading data for 20 drivers: ['1', '63', '44', '14', '55', '18', '16', '23', '10', '27', '31', '22', '4', '20', '21', '81', '24', '2', '77', '11']\n",
      "Fetching races: 100%|██████████| 3/3 [00:09<00:00,  3.13s/it]"
     ]
    },
    {
     "name": "stdout",
     "output_type": "stream",
     "text": [
      "✓ Saved session info to sessions.csv\n",
      "✓ Saved 882 laps to 2023_3_R_laps.parquet\n",
      "✓ Saved 14 pit stops to 2023_3_R_pitstops.csv\n",
      "✓ Saved 222 weather records to 2023_3_R_weather.csv\n",
      "✓ Completed 2023_3_R\n",
      "\n",
      "\n",
      "✓ All races fetched and saved\n"
     ]
    },
    {
     "name": "stderr",
     "output_type": "stream",
     "text": [
      "\n"
     ]
    }
   ],
   "source": [
    "# Fetch and save each race\n",
    "ingest.fetch_and_save_races(TARGET_RACES, session_code='R')\n",
    "\n",
    "print(\"\\n✓ All races fetched and saved\")"
   ]
  },
  {
   "cell_type": "markdown",
   "metadata": {},
   "source": [
    "## Validate: Check Data Quality"
   ]
  },
  {
   "cell_type": "code",
   "execution_count": 8,
   "metadata": {},
   "outputs": [
    {
     "name": "stdout",
     "output_type": "stream",
     "text": [
      "\n",
      "Sessions loaded: 3\n",
      "  session_key              circuit_name                 date\n",
      "0    2023_1_R        Bahrain Grand Prix  2023-03-05 00:00:00\n",
      "1    2023_2_R  Saudi Arabian Grand Prix  2023-03-19 00:00:00\n",
      "2    2023_3_R     Australian Grand Prix  2023-04-02 00:00:00\n",
      "\n",
      "✓ 2023_1_R: 1035 laps (min: 50)\n",
      "✓ Uniqueness validation passed for 2023_1_R on ['session_key', 'driver', 'lap']\n",
      "✓ Schema validation passed for 2023_1_R\n",
      "\n",
      "✓ 2023_2_R: 904 laps (min: 50)\n",
      "✓ Uniqueness validation passed for 2023_2_R on ['session_key', 'driver', 'lap']\n",
      "✓ Schema validation passed for 2023_2_R\n",
      "\n",
      "✓ 2023_3_R: 882 laps (min: 50)\n",
      "✓ Uniqueness validation passed for 2023_3_R on ['session_key', 'driver', 'lap']\n",
      "✓ Schema validation passed for 2023_3_R\n",
      "\n",
      "✓ Validation complete\n"
     ]
    }
   ],
   "source": [
    "# Load sessions file\n",
    "sessions_file = config.paths()['data_raw'] / 'sessions.csv'\n",
    "sessions = pd.read_csv(sessions_file)\n",
    "\n",
    "print(f\"\\nSessions loaded: {len(sessions)}\")\n",
    "print(sessions[['session_key', 'circuit_name', 'date']])\n",
    "\n",
    "# Validate each race\n",
    "for _, session in sessions.iterrows():\n",
    "    session_key = session['session_key']\n",
    "    \n",
    "    # Check laps file\n",
    "    laps_file = config.paths()['data_raw'] / f\"{session_key}_laps.parquet\"\n",
    "    if laps_file.exists():\n",
    "        laps = pd.read_parquet(laps_file)\n",
    "        \n",
    "        # Validate minimum lap count\n",
    "        n_laps = len(laps)\n",
    "        expected_min_laps = config.MIN_LAPS_PER_RACE\n",
    "        \n",
    "        status = \"✓\" if n_laps >= expected_min_laps else \"✗\"\n",
    "        print(f\"\\n{status} {session_key}: {n_laps} laps (min: {expected_min_laps})\")\n",
    "        \n",
    "        # Check uniqueness\n",
    "        validation.validate_uniqueness(laps, ['session_key', 'driver', 'lap'], session_key)\n",
    "        \n",
    "        # Check for required columns\n",
    "        required_cols = ['session_key', 'driver', 'lap', 'lap_time_ms', 'compound']\n",
    "        validation.validate_schema(laps, required_cols, name=session_key)\n",
    "    else:\n",
    "        print(f\"✗ {session_key}: Laps file not found\")\n",
    "\n",
    "print(\"\\n✓ Validation complete\")"
   ]
  },
  {
   "cell_type": "markdown",
   "metadata": {},
   "source": [
    "## Save: Already saved during ingestion"
   ]
  },
  {
   "cell_type": "markdown",
   "metadata": {},
   "source": [
    "## Repro Notes\n",
    "\n",
    "- Fetched races using FastF1 API\n",
    "- Data saved to data/raw/\n",
    "- All races meet minimum lap count threshold\n",
    "- Uniqueness and schema validations passed"
   ]
  }
 ],
 "metadata": {
  "kernelspec": {
   "display_name": ".venv (3.12.1)",
   "language": "python",
   "name": "python3"
  },
  "language_info": {
   "codemirror_mode": {
    "name": "ipython",
    "version": 3
   },
   "file_extension": ".py",
   "mimetype": "text/x-python",
   "name": "python",
   "nbconvert_exporter": "python",
   "pygments_lexer": "ipython3",
   "version": "3.12.1"
  }
 },
 "nbformat": 4,
 "nbformat_minor": 4
}
