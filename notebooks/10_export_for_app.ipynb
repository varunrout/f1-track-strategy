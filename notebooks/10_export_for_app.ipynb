{
  "cells": [
    {
      "cell_type": "markdown",
      "metadata": {},
      "source": [
        "# 10 - Export for App\n",
        "\n",
        "## Overview\n",
        "Export slim datasets for Streamlit app."
      ]
    },
    {
      "cell_type": "code",
      "execution_count": 1,
      "metadata": {},
      "outputs": [],
      "source": [
        "import sys\n",
        "from pathlib import Path\n",
        "sys.path.insert(0, str(Path.cwd().parent / 'src'))\n",
        "\n",
        "import pandas as pd\n",
        "from f1ts import config, io_flat"
      ]
    },
    {
      "cell_type": "markdown",
      "metadata": {},
      "source": [
        "## Load"
      ]
    },
    {
      "cell_type": "code",
      "execution_count": 2,
      "metadata": {},
      "outputs": [
        {
          "name": "stdout",
          "output_type": "stream",
          "text": [
            "✓ Loaded sessions.csv: 3 rows, 6 cols\n",
            "✓ Loaded laps_processed.parquet: 2,533 rows, 22 cols\n",
            "  Dtypes: {'session_key': dtype('O'), 'driver': dtype('O'), 'lap': dtype('int64'), 'lap_time_ms': dtype('int64'), 'sector1_ms': dtype('int64'), 'sector2_ms': dtype('int64'), 'sector3_ms': dtype('int64'), 'compound': dtype('O'), 'tyre_life': dtype('int64'), 'is_pit_lap': dtype('bool'), 'track_status': dtype('O'), 'stint_id': dtype('int64'), 'tyre_age_laps': dtype('int64'), 'air_temp': dtype('float64'), 'track_temp': dtype('float64'), 'humidity': dtype('float64'), 'rainfall': dtype('bool'), 'wind_speed': dtype('float64'), 'event_type': dtype('O'), 'duration_laps': dtype('float64'), 'lap_number': dtype('int64'), 'circuit_name': dtype('O')}\n",
            "✓ Loaded stints.parquet: 120 rows, 14 cols\n",
            "  Dtypes: {'session_key': dtype('O'), 'driver': dtype('O'), 'stint_id': dtype('int64'), 'compound': dtype('O'), 'start_lap': dtype('int64'), 'end_lap': dtype('int64'), 'n_laps': dtype('int64'), 'avg_lap_time_ms': dtype('float64'), 'std_lap_time_ms': dtype('float64'), 'best_lap_time_ms': dtype('int64'), 'max_tyre_age': dtype('int64'), 'avg_air_temp': dtype('float64'), 'avg_track_temp': dtype('float64'), 'ended_with_pit': dtype('bool')}\n",
            "✓ Loaded strategy_decisions.parquet: 10 rows, 6 cols\n",
            "  Dtypes: {'n_stops': dtype('int64'), 'stop_laps': dtype('O'), 'compounds': dtype('O'), 'exp_finish_time_s': dtype('float64'), 'strategy_json': dtype('O'), 'delta_to_best_s': dtype('float64')}\n"
          ]
        }
      ],
      "source": [
        "raw_dir = config.paths()['data_raw']\n",
        "processed_dir = config.paths()['data_processed']\n",
        "features_dir = config.paths()['data_features']\n",
        "\n",
        "sessions = io_flat.read_csv(raw_dir / 'sessions.csv')\n",
        "laps = io_flat.read_parquet(processed_dir / 'laps_processed.parquet')\n",
        "stints = io_flat.read_parquet(processed_dir / 'stints.parquet')\n",
        "strategies = io_flat.read_parquet(features_dir / 'strategy_decisions.parquet')"
      ]
    },
    {
      "cell_type": "markdown",
      "metadata": {},
      "source": [
        "## Transform: Create App Exports"
      ]
    },
    {
      "cell_type": "code",
      "execution_count": 3,
      "metadata": {},
      "outputs": [
        {
          "name": "stdout",
          "output_type": "stream",
          "text": [
            "✓ Saved race_index.csv: 3 rows, 3 cols\n",
            "✓ Saved 2023_1_R_laps.parquet: 947 rows, 7 cols\n",
            "✓ Saved 2023_2_R_laps.parquet: 835 rows, 7 cols\n",
            "✓ Saved 2023_3_R_laps.parquet: 751 rows, 7 cols\n",
            "✓ Exported data for 3 races\n"
          ]
        }
      ],
      "source": [
        "app_export_dir = features_dir / 'app_export'\n",
        "app_export_dir.mkdir(exist_ok=True)\n",
        "\n",
        "# Race index\n",
        "race_index = sessions[['session_key', 'circuit_name', 'date']].copy()\n",
        "io_flat.write_csv(race_index, app_export_dir / 'race_index.csv')\n",
        "\n",
        "# Export per-race files (sample for first race)\n",
        "for session_key in sessions['session_key'].unique():\n",
        "    session_laps = laps[laps['session_key'] == session_key]\n",
        "    session_stints = stints[stints['session_key'] == session_key]\n",
        "    \n",
        "    if len(session_laps) > 0:\n",
        "        # Slim down columns for app\n",
        "        lap_cols = ['session_key', 'driver', 'lap', 'lap_time_ms', 'compound', 'stint_id', 'tyre_age_laps']\n",
        "        available_cols = [c for c in lap_cols if c in session_laps.columns]\n",
        "        io_flat.write_parquet(\n",
        "            session_laps[available_cols],\n",
        "            app_export_dir / f'{session_key}_laps.parquet'\n",
        "        )\n",
        "\n",
        "print(f'✓ Exported data for {len(sessions)} races')"
      ]
    },
    {
      "cell_type": "markdown",
      "metadata": {},
      "source": [
        "## Save: Already saved above"
      ]
    },
    {
      "cell_type": "markdown",
      "metadata": {},
      "source": [
        "## Repro Notes\n",
        "\n",
        "- Exported slim datasets for Streamlit\n",
        "- Created race index and per-race files"
      ]
    }
  ],
  "metadata": {
    "kernelspec": {
      "display_name": ".venv (3.12.1)",
      "language": "python",
      "name": "python3"
    },
    "language_info": {
      "codemirror_mode": {
        "name": "ipython",
        "version": 3
      },
      "file_extension": ".py",
      "mimetype": "text/x-python",
      "name": "python",
      "nbconvert_exporter": "python",
      "pygments_lexer": "ipython3",
      "version": "3.12.1"
    }
  },
  "nbformat": 4,
  "nbformat_minor": 4
}
