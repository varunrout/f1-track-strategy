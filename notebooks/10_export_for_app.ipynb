{
 "cells": [
  {"cell_type": "markdown", "metadata": {}, "source": ["# 10 - Export for App\n\n## Overview\nExport slim datasets for Streamlit app."]},
  {"cell_type": "code", "execution_count": null, "metadata": {}, "outputs": [], "source": ["import sys\nfrom pathlib import Path\nsys.path.insert(0, str(Path.cwd().parent / 'src'))\n\nimport pandas as pd\nfrom f1ts import config, io_flat"]},
  {"cell_type": "markdown", "metadata": {}, "source": ["## Load"]},
  {"cell_type": "code", "execution_count": null, "metadata": {}, "outputs": [], "source": ["raw_dir = config.paths()['data_raw']\nprocessed_dir = config.paths()['data_processed']\nfeatures_dir = config.paths()['data_features']\n\nsessions = io_flat.read_csv(raw_dir / 'sessions.csv')\nlaps = io_flat.read_parquet(processed_dir / 'laps_processed.parquet')\nstints = io_flat.read_parquet(processed_dir / 'stints.parquet')\nstrategies = io_flat.read_parquet(features_dir / 'strategy_decisions.parquet')"]},
  {"cell_type": "markdown", "metadata": {}, "source": ["## Transform: Create App Exports"]},
  {"cell_type": "code", "execution_count": null, "metadata": {}, "outputs": [], "source": ["app_export_dir = features_dir / 'app_export'\napp_export_dir.mkdir(exist_ok=True)\n\n# Race index\nrace_index = sessions[['session_key', 'circuit_name', 'date']].copy()\nio_flat.write_csv(race_index, app_export_dir / 'race_index.csv')\n\n# Export per-race files (sample for first race)\nfor session_key in sessions['session_key'].unique():\n    session_laps = laps[laps['session_key'] == session_key]\n    session_stints = stints[stints['session_key'] == session_key]\n    \n    if len(session_laps) > 0:\n        # Slim down columns for app\n        lap_cols = ['session_key', 'driver', 'lap', 'lap_time_ms', 'compound', 'stint_id', 'tyre_age_laps']\n        available_cols = [c for c in lap_cols if c in session_laps.columns]\n        io_flat.write_parquet(\n            session_laps[available_cols],\n            app_export_dir / f'{session_key}_laps.parquet'\n        )\n\nprint(f'✓ Exported data for {len(sessions)} races')"]},
  {"cell_type": "markdown", "metadata": {}, "source": ["## Save: Already saved above"]},
  {"cell_type": "markdown", "metadata": {}, "source": ["## Repro Notes\n\n- Exported slim datasets for Streamlit\n- Created race index and per-race files"]}
 ],
 "metadata": {"kernelspec": {"display_name": "Python 3", "language": "python", "name": "python3"}},
 "nbformat": 4,
 "nbformat_minor": 4
}
