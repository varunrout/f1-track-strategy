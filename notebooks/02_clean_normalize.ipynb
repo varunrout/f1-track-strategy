{
 "cells": [
  {"cell_type": "markdown", "metadata": {}, "source": ["# 02 - Clean and Normalize\n\n## Overview\nStandardize compounds, derive stints, attach tyre age, remove outliers.\n\n## Inputs\n- data/raw/*_laps.parquet\n\n## Outputs\n- data/interim/laps_interim.parquet\n- data/interim/stints_interim.parquet"]},
  {"cell_type": "code", "execution_count": null, "metadata": {}, "outputs": [], "source": ["import sys\nfrom pathlib import Path\nsys.path.insert(0, str(Path.cwd().parent / 'src'))\n\nimport pandas as pd\nfrom f1ts import config, io_flat, clean, validation\n\nconfig.ensure_dirs()"]},
  {"cell_type": "markdown", "metadata": {}, "source": ["## Load Raw Laps"]},
  {"cell_type": "code", "execution_count": null, "metadata": {}, "outputs": [], "source": ["raw_dir = config.paths()['data_raw']\nlaps_files = list(raw_dir.glob('*_laps.parquet'))\n\nprint(f\"Found {len(laps_files)} lap files\")\n\nall_laps = []\nfor laps_file in laps_files:\n    laps = pd.read_parquet(laps_file)\n    all_laps.append(laps)\n    print(f\"  Loaded {laps_file.name}: {len(laps):,} laps\")\n\nlaps_raw = pd.concat(all_laps, ignore_index=True)\nprint(f\"\\nTotal laps: {len(laps_raw):,}\")"]},
  {"cell_type": "markdown", "metadata": {}, "source": ["## Transform: Clean Pipeline"]},
  {"cell_type": "code", "execution_count": null, "metadata": {}, "outputs": [], "source": ["laps_clean, stints = clean.clean_pipeline(laps_raw)\n\nprint(f\"\\nCleaned laps: {len(laps_clean):,}\")\nprint(f\"Stints derived: {len(stints):,}\")"]},
  {"cell_type": "markdown", "metadata": {}, "source": ["## Validate"]},
  {"cell_type": "code", "execution_count": null, "metadata": {}, "outputs": [], "source": ["# Validate schema\nrequired_lap_cols = ['session_key', 'driver', 'lap', 'compound', 'stint_id', 'tyre_age_laps']\nvalidation.validate_schema(laps_clean, required_lap_cols, name='laps_interim')\n\n# Validate no NAs in key columns\nvalidation.assert_no_na(laps_clean, ['session_key', 'driver', 'lap', 'compound'], name='laps_interim')\n\n# Check compounds\nvalidation.validate_categorical(laps_clean, 'compound', set(config.VALID_COMPOUNDS), name='laps_interim')\n\nprint('\\n✓ All validations passed')"]},
  {"cell_type": "markdown", "metadata": {}, "source": ["## Save"]},
  {"cell_type": "code", "execution_count": null, "metadata": {}, "outputs": [], "source": ["interim_dir = config.paths()['data_interim']\n\nio_flat.write_parquet(laps_clean, interim_dir / 'laps_interim.parquet')\nio_flat.write_parquet(stints, interim_dir / 'stints_interim.parquet')\n\nprint('\\n✓ Saved interim data')"]},
  {"cell_type": "markdown", "metadata": {}, "source": ["## Repro Notes\n\n- Standardized compounds\n- Derived stints based on pit stops and compound changes\n- Attached tyre age\n- Removed outliers using MAD\n- All validations passed"]}
 ],
 "metadata": {"kernelspec": {"display_name": "Python 3", "language": "python", "name": "python3"}},
 "nbformat": 4,
 "nbformat_minor": 4
}
